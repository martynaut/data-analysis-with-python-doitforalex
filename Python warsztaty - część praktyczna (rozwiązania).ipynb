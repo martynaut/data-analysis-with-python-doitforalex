{
 "cells": [
  {
   "cell_type": "markdown",
   "metadata": {},
   "source": [
    "# DoITForAlex\n",
    "\n",
    "# Szkolenie z analizy danych z wykorzystaniem języka programowania Python - zadania praktyczne\n",
    "\n",
    "Prowadzący: Dorota Mierzwa, Martyna Urbanek-Trzeciak"
   ]
  },
  {
   "cell_type": "markdown",
   "metadata": {
    "ExecuteTime": {
     "end_time": "2019-12-31T09:05:24.651929Z",
     "start_time": "2019-12-31T09:05:24.647602Z"
    }
   },
   "source": [
    "## Część praktyczna I\n",
    "\n",
    "Wykorzystamy dane z Google Trends dotyczące wyszukiwana wybranych fraz: `crossfit`, `python` oraz `tofu` (możesz zmienić `tofu` na inne słowo, dla łatwości korzystania z notebooka - `crossfit` i `python` powinny zostać :).\n",
    "\n",
    "Dane pobierz [stąd](https://trends.google.com/trends/explore?date=all&q=crossfit,python,tofu)."
   ]
  },
  {
   "cell_type": "code",
   "execution_count": 2,
   "metadata": {
    "ExecuteTime": {
     "end_time": "2020-01-10T19:01:25.383260Z",
     "start_time": "2020-01-10T19:01:24.621058Z"
    }
   },
   "outputs": [],
   "source": [
    "import pandas as pd\n",
    "import numpy as np\n",
    "import matplotlib.pyplot as plt \n",
    "import seaborn as sns"
   ]
  },
  {
   "cell_type": "markdown",
   "metadata": {},
   "source": [
    "#### 1. Wczytaj dane z pliku multiTimeline.csv. Spróbuj użyć argumentu \"header\", słowa wyszukiwane w Google Trends znalazły się w nazwach kolumn"
   ]
  },
  {
   "cell_type": "code",
   "execution_count": 3,
   "metadata": {
    "ExecuteTime": {
     "end_time": "2020-01-10T19:01:25.424289Z",
     "start_time": "2020-01-10T19:01:25.385411Z"
    }
   },
   "outputs": [],
   "source": [
    "# wczytaj dane \n",
    "df = pd.read_csv('multiTimeline.csv', header=1)"
   ]
  },
  {
   "cell_type": "markdown",
   "metadata": {},
   "source": [
    "#### 2. Wyświetl 5 pierwszych wierszy danych"
   ]
  },
  {
   "cell_type": "code",
   "execution_count": 4,
   "metadata": {
    "ExecuteTime": {
     "end_time": "2020-01-10T19:01:25.536292Z",
     "start_time": "2020-01-10T19:01:25.518548Z"
    }
   },
   "outputs": [
    {
     "data": {
      "text/html": [
       "<div>\n",
       "<style scoped>\n",
       "    .dataframe tbody tr th:only-of-type {\n",
       "        vertical-align: middle;\n",
       "    }\n",
       "\n",
       "    .dataframe tbody tr th {\n",
       "        vertical-align: top;\n",
       "    }\n",
       "\n",
       "    .dataframe thead th {\n",
       "        text-align: right;\n",
       "    }\n",
       "</style>\n",
       "<table border=\"1\" class=\"dataframe\">\n",
       "  <thead>\n",
       "    <tr style=\"text-align: right;\">\n",
       "      <th></th>\n",
       "      <th>Month</th>\n",
       "      <th>crossfit: (Worldwide)</th>\n",
       "      <th>python: (Worldwide)</th>\n",
       "      <th>tofu: (Worldwide)</th>\n",
       "    </tr>\n",
       "  </thead>\n",
       "  <tbody>\n",
       "    <tr>\n",
       "      <th>0</th>\n",
       "      <td>2004-01</td>\n",
       "      <td>&lt;1</td>\n",
       "      <td>43</td>\n",
       "      <td>6</td>\n",
       "    </tr>\n",
       "    <tr>\n",
       "      <th>1</th>\n",
       "      <td>2004-02</td>\n",
       "      <td>&lt;1</td>\n",
       "      <td>41</td>\n",
       "      <td>5</td>\n",
       "    </tr>\n",
       "    <tr>\n",
       "      <th>2</th>\n",
       "      <td>2004-03</td>\n",
       "      <td>&lt;1</td>\n",
       "      <td>40</td>\n",
       "      <td>5</td>\n",
       "    </tr>\n",
       "    <tr>\n",
       "      <th>3</th>\n",
       "      <td>2004-04</td>\n",
       "      <td>&lt;1</td>\n",
       "      <td>38</td>\n",
       "      <td>5</td>\n",
       "    </tr>\n",
       "    <tr>\n",
       "      <th>4</th>\n",
       "      <td>2004-05</td>\n",
       "      <td>&lt;1</td>\n",
       "      <td>38</td>\n",
       "      <td>5</td>\n",
       "    </tr>\n",
       "  </tbody>\n",
       "</table>\n",
       "</div>"
      ],
      "text/plain": [
       "     Month crossfit: (Worldwide)  python: (Worldwide)  tofu: (Worldwide)\n",
       "0  2004-01                    <1                   43                  6\n",
       "1  2004-02                    <1                   41                  5\n",
       "2  2004-03                    <1                   40                  5\n",
       "3  2004-04                    <1                   38                  5\n",
       "4  2004-05                    <1                   38                  5"
      ]
     },
     "execution_count": 4,
     "metadata": {},
     "output_type": "execute_result"
    }
   ],
   "source": [
    "df.head()"
   ]
  },
  {
   "cell_type": "markdown",
   "metadata": {
    "ExecuteTime": {
     "end_time": "2019-12-31T09:13:04.832938Z",
     "start_time": "2019-12-31T09:13:04.829864Z"
    }
   },
   "source": [
    "#### 3. Wyświetl 5 ostatnich wierszy danych"
   ]
  },
  {
   "cell_type": "code",
   "execution_count": 5,
   "metadata": {
    "ExecuteTime": {
     "end_time": "2020-01-10T19:01:26.240826Z",
     "start_time": "2020-01-10T19:01:26.230887Z"
    }
   },
   "outputs": [
    {
     "data": {
      "text/html": [
       "<div>\n",
       "<style scoped>\n",
       "    .dataframe tbody tr th:only-of-type {\n",
       "        vertical-align: middle;\n",
       "    }\n",
       "\n",
       "    .dataframe tbody tr th {\n",
       "        vertical-align: top;\n",
       "    }\n",
       "\n",
       "    .dataframe thead th {\n",
       "        text-align: right;\n",
       "    }\n",
       "</style>\n",
       "<table border=\"1\" class=\"dataframe\">\n",
       "  <thead>\n",
       "    <tr style=\"text-align: right;\">\n",
       "      <th></th>\n",
       "      <th>Month</th>\n",
       "      <th>crossfit: (Worldwide)</th>\n",
       "      <th>python: (Worldwide)</th>\n",
       "      <th>tofu: (Worldwide)</th>\n",
       "    </tr>\n",
       "  </thead>\n",
       "  <tbody>\n",
       "    <tr>\n",
       "      <th>187</th>\n",
       "      <td>2019-08</td>\n",
       "      <td>25</td>\n",
       "      <td>88</td>\n",
       "      <td>9</td>\n",
       "    </tr>\n",
       "    <tr>\n",
       "      <th>188</th>\n",
       "      <td>2019-09</td>\n",
       "      <td>16</td>\n",
       "      <td>98</td>\n",
       "      <td>9</td>\n",
       "    </tr>\n",
       "    <tr>\n",
       "      <th>189</th>\n",
       "      <td>2019-10</td>\n",
       "      <td>20</td>\n",
       "      <td>100</td>\n",
       "      <td>9</td>\n",
       "    </tr>\n",
       "    <tr>\n",
       "      <th>190</th>\n",
       "      <td>2019-11</td>\n",
       "      <td>17</td>\n",
       "      <td>97</td>\n",
       "      <td>10</td>\n",
       "    </tr>\n",
       "    <tr>\n",
       "      <th>191</th>\n",
       "      <td>2019-12</td>\n",
       "      <td>14</td>\n",
       "      <td>87</td>\n",
       "      <td>9</td>\n",
       "    </tr>\n",
       "  </tbody>\n",
       "</table>\n",
       "</div>"
      ],
      "text/plain": [
       "       Month crossfit: (Worldwide)  python: (Worldwide)  tofu: (Worldwide)\n",
       "187  2019-08                    25                   88                  9\n",
       "188  2019-09                    16                   98                  9\n",
       "189  2019-10                    20                  100                  9\n",
       "190  2019-11                    17                   97                 10\n",
       "191  2019-12                    14                   87                  9"
      ]
     },
     "execution_count": 5,
     "metadata": {},
     "output_type": "execute_result"
    }
   ],
   "source": [
    "df.tail()"
   ]
  },
  {
   "cell_type": "markdown",
   "metadata": {},
   "source": [
    "#### 4. Wyświetl wartości dla wiersza o numerycznym indeksie 100"
   ]
  },
  {
   "cell_type": "code",
   "execution_count": 6,
   "metadata": {
    "ExecuteTime": {
     "end_time": "2020-01-10T19:01:26.761778Z",
     "start_time": "2020-01-10T19:01:26.755826Z"
    }
   },
   "outputs": [
    {
     "data": {
      "text/plain": [
       "Month                    2012-05\n",
       "crossfit: (Worldwide)         20\n",
       "python: (Worldwide)           31\n",
       "tofu: (Worldwide)              6\n",
       "Name: 100, dtype: object"
      ]
     },
     "execution_count": 6,
     "metadata": {},
     "output_type": "execute_result"
    }
   ],
   "source": [
    "df.iloc[100]"
   ]
  },
  {
   "cell_type": "markdown",
   "metadata": {},
   "source": [
    "#### 5. Zmień nazwy kolumn usuwając \": (Worldwide)\". Zamień również kolumnę \"Month\" na \"Date\"."
   ]
  },
  {
   "cell_type": "code",
   "execution_count": 7,
   "metadata": {
    "ExecuteTime": {
     "end_time": "2020-01-10T19:01:27.245618Z",
     "start_time": "2020-01-10T19:01:27.241446Z"
    }
   },
   "outputs": [],
   "source": [
    "df.rename(columns={'crossfit: (Worldwide)': 'crossfit',\n",
    "                  'python: (Worldwide)': 'python',\n",
    "                  'tofu: (Worldwide)': 'tofu',\n",
    "                  'Month': 'Date'}, \n",
    "          inplace=True)"
   ]
  },
  {
   "cell_type": "markdown",
   "metadata": {},
   "source": [
    "#### 6. Wyświetl wiersz dla daty 2019-01"
   ]
  },
  {
   "cell_type": "code",
   "execution_count": 8,
   "metadata": {
    "ExecuteTime": {
     "end_time": "2020-01-10T19:01:27.726135Z",
     "start_time": "2020-01-10T19:01:27.715915Z"
    }
   },
   "outputs": [
    {
     "data": {
      "text/html": [
       "<div>\n",
       "<style scoped>\n",
       "    .dataframe tbody tr th:only-of-type {\n",
       "        vertical-align: middle;\n",
       "    }\n",
       "\n",
       "    .dataframe tbody tr th {\n",
       "        vertical-align: top;\n",
       "    }\n",
       "\n",
       "    .dataframe thead th {\n",
       "        text-align: right;\n",
       "    }\n",
       "</style>\n",
       "<table border=\"1\" class=\"dataframe\">\n",
       "  <thead>\n",
       "    <tr style=\"text-align: right;\">\n",
       "      <th></th>\n",
       "      <th>Date</th>\n",
       "      <th>crossfit</th>\n",
       "      <th>python</th>\n",
       "      <th>tofu</th>\n",
       "    </tr>\n",
       "  </thead>\n",
       "  <tbody>\n",
       "    <tr>\n",
       "      <th>180</th>\n",
       "      <td>2019-01</td>\n",
       "      <td>19</td>\n",
       "      <td>80</td>\n",
       "      <td>10</td>\n",
       "    </tr>\n",
       "  </tbody>\n",
       "</table>\n",
       "</div>"
      ],
      "text/plain": [
       "        Date crossfit  python  tofu\n",
       "180  2019-01       19      80    10"
      ]
     },
     "execution_count": 8,
     "metadata": {},
     "output_type": "execute_result"
    }
   ],
   "source": [
    "df[df['Date'] == '2019-01']"
   ]
  },
  {
   "cell_type": "markdown",
   "metadata": {
    "ExecuteTime": {
     "end_time": "2019-12-31T09:18:10.509698Z",
     "start_time": "2019-12-31T09:18:10.506680Z"
    }
   },
   "source": [
    "#### 7. Wyświetl wiersz dla dat większych od września 2019"
   ]
  },
  {
   "cell_type": "code",
   "execution_count": 9,
   "metadata": {
    "ExecuteTime": {
     "end_time": "2020-01-10T19:01:28.187087Z",
     "start_time": "2020-01-10T19:01:28.174707Z"
    }
   },
   "outputs": [
    {
     "data": {
      "text/html": [
       "<div>\n",
       "<style scoped>\n",
       "    .dataframe tbody tr th:only-of-type {\n",
       "        vertical-align: middle;\n",
       "    }\n",
       "\n",
       "    .dataframe tbody tr th {\n",
       "        vertical-align: top;\n",
       "    }\n",
       "\n",
       "    .dataframe thead th {\n",
       "        text-align: right;\n",
       "    }\n",
       "</style>\n",
       "<table border=\"1\" class=\"dataframe\">\n",
       "  <thead>\n",
       "    <tr style=\"text-align: right;\">\n",
       "      <th></th>\n",
       "      <th>Date</th>\n",
       "      <th>crossfit</th>\n",
       "      <th>python</th>\n",
       "      <th>tofu</th>\n",
       "    </tr>\n",
       "  </thead>\n",
       "  <tbody>\n",
       "    <tr>\n",
       "      <th>189</th>\n",
       "      <td>2019-10</td>\n",
       "      <td>20</td>\n",
       "      <td>100</td>\n",
       "      <td>9</td>\n",
       "    </tr>\n",
       "    <tr>\n",
       "      <th>190</th>\n",
       "      <td>2019-11</td>\n",
       "      <td>17</td>\n",
       "      <td>97</td>\n",
       "      <td>10</td>\n",
       "    </tr>\n",
       "    <tr>\n",
       "      <th>191</th>\n",
       "      <td>2019-12</td>\n",
       "      <td>14</td>\n",
       "      <td>87</td>\n",
       "      <td>9</td>\n",
       "    </tr>\n",
       "  </tbody>\n",
       "</table>\n",
       "</div>"
      ],
      "text/plain": [
       "        Date crossfit  python  tofu\n",
       "189  2019-10       20     100     9\n",
       "190  2019-11       17      97    10\n",
       "191  2019-12       14      87     9"
      ]
     },
     "execution_count": 9,
     "metadata": {},
     "output_type": "execute_result"
    }
   ],
   "source": [
    "df[df['Date'] > '2019-09']"
   ]
  },
  {
   "cell_type": "markdown",
   "metadata": {},
   "source": [
    "#### 8. Wyświetl wiersze dla dat większych od stycznia 2018 ale mniejszych niż maj 2018"
   ]
  },
  {
   "cell_type": "code",
   "execution_count": 10,
   "metadata": {
    "ExecuteTime": {
     "end_time": "2020-01-10T19:01:28.596552Z",
     "start_time": "2020-01-10T19:01:28.584898Z"
    }
   },
   "outputs": [
    {
     "data": {
      "text/html": [
       "<div>\n",
       "<style scoped>\n",
       "    .dataframe tbody tr th:only-of-type {\n",
       "        vertical-align: middle;\n",
       "    }\n",
       "\n",
       "    .dataframe tbody tr th {\n",
       "        vertical-align: top;\n",
       "    }\n",
       "\n",
       "    .dataframe thead th {\n",
       "        text-align: right;\n",
       "    }\n",
       "</style>\n",
       "<table border=\"1\" class=\"dataframe\">\n",
       "  <thead>\n",
       "    <tr style=\"text-align: right;\">\n",
       "      <th></th>\n",
       "      <th>Date</th>\n",
       "      <th>crossfit</th>\n",
       "      <th>python</th>\n",
       "      <th>tofu</th>\n",
       "    </tr>\n",
       "  </thead>\n",
       "  <tbody>\n",
       "    <tr>\n",
       "      <th>169</th>\n",
       "      <td>2018-02</td>\n",
       "      <td>24</td>\n",
       "      <td>77</td>\n",
       "      <td>9</td>\n",
       "    </tr>\n",
       "    <tr>\n",
       "      <th>170</th>\n",
       "      <td>2018-03</td>\n",
       "      <td>26</td>\n",
       "      <td>78</td>\n",
       "      <td>9</td>\n",
       "    </tr>\n",
       "    <tr>\n",
       "      <th>171</th>\n",
       "      <td>2018-04</td>\n",
       "      <td>18</td>\n",
       "      <td>78</td>\n",
       "      <td>8</td>\n",
       "    </tr>\n",
       "  </tbody>\n",
       "</table>\n",
       "</div>"
      ],
      "text/plain": [
       "        Date crossfit  python  tofu\n",
       "169  2018-02       24      77     9\n",
       "170  2018-03       26      78     9\n",
       "171  2018-04       18      78     8"
      ]
     },
     "execution_count": 10,
     "metadata": {},
     "output_type": "execute_result"
    }
   ],
   "source": [
    "df[(df['Date'] > '2018-01') & (df['Date'] < '2018-05')]"
   ]
  },
  {
   "cell_type": "markdown",
   "metadata": {},
   "source": [
    "#### 9. Wyświetl wiersze, gdy wartość w kolumnie python jest większa niż 90 LUB mniejsza niż 20"
   ]
  },
  {
   "cell_type": "code",
   "execution_count": 11,
   "metadata": {
    "ExecuteTime": {
     "end_time": "2020-01-10T19:01:28.908622Z",
     "start_time": "2020-01-10T19:01:28.893455Z"
    }
   },
   "outputs": [
    {
     "data": {
      "text/html": [
       "<div>\n",
       "<style scoped>\n",
       "    .dataframe tbody tr th:only-of-type {\n",
       "        vertical-align: middle;\n",
       "    }\n",
       "\n",
       "    .dataframe tbody tr th {\n",
       "        vertical-align: top;\n",
       "    }\n",
       "\n",
       "    .dataframe thead th {\n",
       "        text-align: right;\n",
       "    }\n",
       "</style>\n",
       "<table border=\"1\" class=\"dataframe\">\n",
       "  <thead>\n",
       "    <tr style=\"text-align: right;\">\n",
       "      <th></th>\n",
       "      <th>Date</th>\n",
       "      <th>crossfit</th>\n",
       "      <th>python</th>\n",
       "      <th>tofu</th>\n",
       "    </tr>\n",
       "  </thead>\n",
       "  <tbody>\n",
       "    <tr>\n",
       "      <th>48</th>\n",
       "      <td>2008-01</td>\n",
       "      <td>2</td>\n",
       "      <td>29</td>\n",
       "      <td>5</td>\n",
       "    </tr>\n",
       "    <tr>\n",
       "      <th>49</th>\n",
       "      <td>2008-02</td>\n",
       "      <td>2</td>\n",
       "      <td>29</td>\n",
       "      <td>5</td>\n",
       "    </tr>\n",
       "    <tr>\n",
       "      <th>50</th>\n",
       "      <td>2008-03</td>\n",
       "      <td>2</td>\n",
       "      <td>29</td>\n",
       "      <td>5</td>\n",
       "    </tr>\n",
       "    <tr>\n",
       "      <th>55</th>\n",
       "      <td>2008-08</td>\n",
       "      <td>3</td>\n",
       "      <td>29</td>\n",
       "      <td>5</td>\n",
       "    </tr>\n",
       "    <tr>\n",
       "      <th>60</th>\n",
       "      <td>2009-01</td>\n",
       "      <td>4</td>\n",
       "      <td>29</td>\n",
       "      <td>5</td>\n",
       "    </tr>\n",
       "    <tr>\n",
       "      <th>65</th>\n",
       "      <td>2009-06</td>\n",
       "      <td>4</td>\n",
       "      <td>29</td>\n",
       "      <td>5</td>\n",
       "    </tr>\n",
       "    <tr>\n",
       "      <th>71</th>\n",
       "      <td>2009-12</td>\n",
       "      <td>5</td>\n",
       "      <td>29</td>\n",
       "      <td>4</td>\n",
       "    </tr>\n",
       "    <tr>\n",
       "      <th>72</th>\n",
       "      <td>2010-01</td>\n",
       "      <td>6</td>\n",
       "      <td>29</td>\n",
       "      <td>6</td>\n",
       "    </tr>\n",
       "    <tr>\n",
       "      <th>78</th>\n",
       "      <td>2010-07</td>\n",
       "      <td>8</td>\n",
       "      <td>28</td>\n",
       "      <td>5</td>\n",
       "    </tr>\n",
       "    <tr>\n",
       "      <th>79</th>\n",
       "      <td>2010-08</td>\n",
       "      <td>7</td>\n",
       "      <td>29</td>\n",
       "      <td>5</td>\n",
       "    </tr>\n",
       "    <tr>\n",
       "      <th>80</th>\n",
       "      <td>2010-09</td>\n",
       "      <td>7</td>\n",
       "      <td>29</td>\n",
       "      <td>5</td>\n",
       "    </tr>\n",
       "    <tr>\n",
       "      <th>83</th>\n",
       "      <td>2010-12</td>\n",
       "      <td>7</td>\n",
       "      <td>28</td>\n",
       "      <td>5</td>\n",
       "    </tr>\n",
       "    <tr>\n",
       "      <th>84</th>\n",
       "      <td>2011-01</td>\n",
       "      <td>9</td>\n",
       "      <td>29</td>\n",
       "      <td>6</td>\n",
       "    </tr>\n",
       "    <tr>\n",
       "      <th>91</th>\n",
       "      <td>2011-08</td>\n",
       "      <td>12</td>\n",
       "      <td>29</td>\n",
       "      <td>5</td>\n",
       "    </tr>\n",
       "    <tr>\n",
       "      <th>95</th>\n",
       "      <td>2011-12</td>\n",
       "      <td>12</td>\n",
       "      <td>29</td>\n",
       "      <td>5</td>\n",
       "    </tr>\n",
       "    <tr>\n",
       "      <th>96</th>\n",
       "      <td>2012-01</td>\n",
       "      <td>17</td>\n",
       "      <td>29</td>\n",
       "      <td>7</td>\n",
       "    </tr>\n",
       "    <tr>\n",
       "      <th>107</th>\n",
       "      <td>2012-12</td>\n",
       "      <td>20</td>\n",
       "      <td>29</td>\n",
       "      <td>5</td>\n",
       "    </tr>\n",
       "    <tr>\n",
       "      <th>186</th>\n",
       "      <td>2019-07</td>\n",
       "      <td>18</td>\n",
       "      <td>91</td>\n",
       "      <td>8</td>\n",
       "    </tr>\n",
       "    <tr>\n",
       "      <th>188</th>\n",
       "      <td>2019-09</td>\n",
       "      <td>16</td>\n",
       "      <td>98</td>\n",
       "      <td>9</td>\n",
       "    </tr>\n",
       "    <tr>\n",
       "      <th>189</th>\n",
       "      <td>2019-10</td>\n",
       "      <td>20</td>\n",
       "      <td>100</td>\n",
       "      <td>9</td>\n",
       "    </tr>\n",
       "    <tr>\n",
       "      <th>190</th>\n",
       "      <td>2019-11</td>\n",
       "      <td>17</td>\n",
       "      <td>97</td>\n",
       "      <td>10</td>\n",
       "    </tr>\n",
       "  </tbody>\n",
       "</table>\n",
       "</div>"
      ],
      "text/plain": [
       "        Date crossfit  python  tofu\n",
       "48   2008-01        2      29     5\n",
       "49   2008-02        2      29     5\n",
       "50   2008-03        2      29     5\n",
       "55   2008-08        3      29     5\n",
       "60   2009-01        4      29     5\n",
       "65   2009-06        4      29     5\n",
       "71   2009-12        5      29     4\n",
       "72   2010-01        6      29     6\n",
       "78   2010-07        8      28     5\n",
       "79   2010-08        7      29     5\n",
       "80   2010-09        7      29     5\n",
       "83   2010-12        7      28     5\n",
       "84   2011-01        9      29     6\n",
       "91   2011-08       12      29     5\n",
       "95   2011-12       12      29     5\n",
       "96   2012-01       17      29     7\n",
       "107  2012-12       20      29     5\n",
       "186  2019-07       18      91     8\n",
       "188  2019-09       16      98     9\n",
       "189  2019-10       20     100     9\n",
       "190  2019-11       17      97    10"
      ]
     },
     "execution_count": 11,
     "metadata": {},
     "output_type": "execute_result"
    }
   ],
   "source": [
    "df[(df['python'] < 30) | (df['python'] > 90)]"
   ]
  },
  {
   "cell_type": "markdown",
   "metadata": {},
   "source": [
    "#### 10. Nadpisz wartość w kolumnie \"python\", dla 2019-12 by równała się 100. Wyświetl ostatnie wiersze DataFrame, by sprawdzić, czy wartość jest taka, jakiej się spodziewasz. "
   ]
  },
  {
   "cell_type": "code",
   "execution_count": 12,
   "metadata": {
    "ExecuteTime": {
     "end_time": "2020-01-10T19:01:29.313818Z",
     "start_time": "2020-01-10T19:01:29.310865Z"
    }
   },
   "outputs": [],
   "source": [
    "df_copy = df.copy()"
   ]
  },
  {
   "cell_type": "code",
   "execution_count": 13,
   "metadata": {
    "ExecuteTime": {
     "end_time": "2020-01-10T19:01:29.449226Z",
     "start_time": "2020-01-10T19:01:29.442905Z"
    }
   },
   "outputs": [],
   "source": [
    "df_copy.loc[df_copy['Date']=='2019-12', 'python'] = 100"
   ]
  },
  {
   "cell_type": "code",
   "execution_count": 14,
   "metadata": {
    "ExecuteTime": {
     "end_time": "2020-01-10T19:01:29.673512Z",
     "start_time": "2020-01-10T19:01:29.663924Z"
    }
   },
   "outputs": [
    {
     "data": {
      "text/html": [
       "<div>\n",
       "<style scoped>\n",
       "    .dataframe tbody tr th:only-of-type {\n",
       "        vertical-align: middle;\n",
       "    }\n",
       "\n",
       "    .dataframe tbody tr th {\n",
       "        vertical-align: top;\n",
       "    }\n",
       "\n",
       "    .dataframe thead th {\n",
       "        text-align: right;\n",
       "    }\n",
       "</style>\n",
       "<table border=\"1\" class=\"dataframe\">\n",
       "  <thead>\n",
       "    <tr style=\"text-align: right;\">\n",
       "      <th></th>\n",
       "      <th>Date</th>\n",
       "      <th>crossfit</th>\n",
       "      <th>python</th>\n",
       "      <th>tofu</th>\n",
       "    </tr>\n",
       "  </thead>\n",
       "  <tbody>\n",
       "    <tr>\n",
       "      <th>187</th>\n",
       "      <td>2019-08</td>\n",
       "      <td>25</td>\n",
       "      <td>88</td>\n",
       "      <td>9</td>\n",
       "    </tr>\n",
       "    <tr>\n",
       "      <th>188</th>\n",
       "      <td>2019-09</td>\n",
       "      <td>16</td>\n",
       "      <td>98</td>\n",
       "      <td>9</td>\n",
       "    </tr>\n",
       "    <tr>\n",
       "      <th>189</th>\n",
       "      <td>2019-10</td>\n",
       "      <td>20</td>\n",
       "      <td>100</td>\n",
       "      <td>9</td>\n",
       "    </tr>\n",
       "    <tr>\n",
       "      <th>190</th>\n",
       "      <td>2019-11</td>\n",
       "      <td>17</td>\n",
       "      <td>97</td>\n",
       "      <td>10</td>\n",
       "    </tr>\n",
       "    <tr>\n",
       "      <th>191</th>\n",
       "      <td>2019-12</td>\n",
       "      <td>14</td>\n",
       "      <td>100</td>\n",
       "      <td>9</td>\n",
       "    </tr>\n",
       "  </tbody>\n",
       "</table>\n",
       "</div>"
      ],
      "text/plain": [
       "        Date crossfit  python  tofu\n",
       "187  2019-08       25      88     9\n",
       "188  2019-09       16      98     9\n",
       "189  2019-10       20     100     9\n",
       "190  2019-11       17      97    10\n",
       "191  2019-12       14     100     9"
      ]
     },
     "execution_count": 14,
     "metadata": {},
     "output_type": "execute_result"
    }
   ],
   "source": [
    "df_copy.tail()"
   ]
  },
  {
   "cell_type": "markdown",
   "metadata": {},
   "source": [
    "#### 11. Sprawdź jakie typy mają kolumny"
   ]
  },
  {
   "cell_type": "code",
   "execution_count": 15,
   "metadata": {
    "ExecuteTime": {
     "end_time": "2020-01-10T19:01:30.014034Z",
     "start_time": "2020-01-10T19:01:30.005377Z"
    }
   },
   "outputs": [
    {
     "name": "stdout",
     "output_type": "stream",
     "text": [
      "<class 'pandas.core.frame.DataFrame'>\n",
      "RangeIndex: 192 entries, 0 to 191\n",
      "Data columns (total 4 columns):\n",
      "Date        192 non-null object\n",
      "crossfit    192 non-null object\n",
      "python      192 non-null int64\n",
      "tofu        192 non-null int64\n",
      "dtypes: int64(2), object(2)\n",
      "memory usage: 6.1+ KB\n"
     ]
    }
   ],
   "source": [
    "df.info()"
   ]
  },
  {
   "cell_type": "markdown",
   "metadata": {},
   "source": [
    "#### 12. Zmień typy kolumn \"Month\" na datetime oraz \"crossfit\" na int. \n",
    "\n",
    "Zauważ, że w kolumnie \"crossfit\" oprócz cyfr są także znaki specjalne, których trzeba się pozbyć. Spróbuj użyć funkcji str.replace według dokumentacji pandas https://pandas.pydata.org/pandas-docs/stable/reference/api/pandas.Series.str.replace.html"
   ]
  },
  {
   "cell_type": "code",
   "execution_count": 16,
   "metadata": {
    "ExecuteTime": {
     "end_time": "2020-01-10T19:01:30.349892Z",
     "start_time": "2020-01-10T19:01:30.345632Z"
    }
   },
   "outputs": [],
   "source": [
    "df['Date'] = df['Date'].astype('datetime64[ns]')"
   ]
  },
  {
   "cell_type": "code",
   "execution_count": 17,
   "metadata": {
    "ExecuteTime": {
     "end_time": "2020-01-10T19:01:30.495166Z",
     "start_time": "2020-01-10T19:01:30.488134Z"
    }
   },
   "outputs": [
    {
     "data": {
      "text/plain": [
       "<1    34\n",
       "1     14\n",
       "20    11\n",
       "21    10\n",
       "19     9\n",
       "22     8\n",
       "25     8\n",
       "16     7\n",
       "3      7\n",
       "28     7\n",
       "5      7\n",
       "4      6\n",
       "18     6\n",
       "24     5\n",
       "7      5\n",
       "6      5\n",
       "2      5\n",
       "23     5\n",
       "29     4\n",
       "30     3\n",
       "26     3\n",
       "12     3\n",
       "17     3\n",
       "9      2\n",
       "8      2\n",
       "27     2\n",
       "13     2\n",
       "11     2\n",
       "10     2\n",
       "14     1\n",
       "34     1\n",
       "32     1\n",
       "33     1\n",
       "31     1\n",
       "Name: crossfit, dtype: int64"
      ]
     },
     "execution_count": 17,
     "metadata": {},
     "output_type": "execute_result"
    }
   ],
   "source": [
    "# zawsze dobrze sprawdzić, czy \"<1\" to jedyna problematyczna wartość. \n",
    "# value_counts pokaże wszystkie wartości oraz to, ile razy wystąpiły w danej kolumnie.\n",
    "df['crossfit'].value_counts()"
   ]
  },
  {
   "cell_type": "code",
   "execution_count": 18,
   "metadata": {
    "ExecuteTime": {
     "end_time": "2020-01-10T19:01:30.640640Z",
     "start_time": "2020-01-10T19:01:30.636172Z"
    }
   },
   "outputs": [],
   "source": [
    "df['crossfit'] = df['crossfit'].str.replace('<', '') # zamieniamy \"<\" na brak znaku"
   ]
  },
  {
   "cell_type": "code",
   "execution_count": 19,
   "metadata": {
    "ExecuteTime": {
     "end_time": "2020-01-10T19:01:30.832497Z",
     "start_time": "2020-01-10T19:01:30.825182Z"
    }
   },
   "outputs": [
    {
     "data": {
      "text/plain": [
       "1     48\n",
       "20    11\n",
       "21    10\n",
       "19     9\n",
       "22     8\n",
       "25     8\n",
       "16     7\n",
       "3      7\n",
       "28     7\n",
       "5      7\n",
       "4      6\n",
       "18     6\n",
       "24     5\n",
       "7      5\n",
       "6      5\n",
       "2      5\n",
       "23     5\n",
       "29     4\n",
       "12     3\n",
       "26     3\n",
       "17     3\n",
       "30     3\n",
       "9      2\n",
       "8      2\n",
       "27     2\n",
       "13     2\n",
       "11     2\n",
       "10     2\n",
       "34     1\n",
       "14     1\n",
       "31     1\n",
       "32     1\n",
       "33     1\n",
       "Name: crossfit, dtype: int64"
      ]
     },
     "execution_count": 19,
     "metadata": {},
     "output_type": "execute_result"
    }
   ],
   "source": [
    "df['crossfit'].value_counts()"
   ]
  },
  {
   "cell_type": "code",
   "execution_count": 20,
   "metadata": {
    "ExecuteTime": {
     "end_time": "2020-01-10T19:01:31.031439Z",
     "start_time": "2020-01-10T19:01:31.027468Z"
    }
   },
   "outputs": [],
   "source": [
    "df['crossfit'] = df['crossfit'].astype('int')"
   ]
  },
  {
   "cell_type": "code",
   "execution_count": 21,
   "metadata": {
    "ExecuteTime": {
     "end_time": "2020-01-10T19:01:31.504067Z",
     "start_time": "2020-01-10T19:01:31.492194Z"
    }
   },
   "outputs": [
    {
     "name": "stdout",
     "output_type": "stream",
     "text": [
      "<class 'pandas.core.frame.DataFrame'>\n",
      "RangeIndex: 192 entries, 0 to 191\n",
      "Data columns (total 4 columns):\n",
      "Date        192 non-null datetime64[ns]\n",
      "crossfit    192 non-null int64\n",
      "python      192 non-null int64\n",
      "tofu        192 non-null int64\n",
      "dtypes: datetime64[ns](1), int64(3)\n",
      "memory usage: 6.1 KB\n"
     ]
    }
   ],
   "source": [
    "df.info()"
   ]
  },
  {
   "cell_type": "markdown",
   "metadata": {},
   "source": [
    "#### 13. Ile razy crossfit prześcignął pythona w wyszukiwaniach w Google?"
   ]
  },
  {
   "cell_type": "code",
   "execution_count": 22,
   "metadata": {
    "ExecuteTime": {
     "end_time": "2020-01-10T19:01:31.986436Z",
     "start_time": "2020-01-10T19:01:31.976102Z"
    }
   },
   "outputs": [
    {
     "data": {
      "text/html": [
       "<div>\n",
       "<style scoped>\n",
       "    .dataframe tbody tr th:only-of-type {\n",
       "        vertical-align: middle;\n",
       "    }\n",
       "\n",
       "    .dataframe tbody tr th {\n",
       "        vertical-align: top;\n",
       "    }\n",
       "\n",
       "    .dataframe thead th {\n",
       "        text-align: right;\n",
       "    }\n",
       "</style>\n",
       "<table border=\"1\" class=\"dataframe\">\n",
       "  <thead>\n",
       "    <tr style=\"text-align: right;\">\n",
       "      <th></th>\n",
       "      <th>Date</th>\n",
       "      <th>crossfit</th>\n",
       "      <th>python</th>\n",
       "      <th>tofu</th>\n",
       "    </tr>\n",
       "  </thead>\n",
       "  <tbody>\n",
       "    <tr>\n",
       "      <th>114</th>\n",
       "      <td>2013-07-01</td>\n",
       "      <td>34</td>\n",
       "      <td>33</td>\n",
       "      <td>6</td>\n",
       "    </tr>\n",
       "  </tbody>\n",
       "</table>\n",
       "</div>"
      ],
      "text/plain": [
       "          Date  crossfit  python  tofu\n",
       "114 2013-07-01        34      33     6"
      ]
     },
     "execution_count": 22,
     "metadata": {},
     "output_type": "execute_result"
    }
   ],
   "source": [
    "df[df['crossfit'] > df['python']]"
   ]
  },
  {
   "cell_type": "code",
   "execution_count": 23,
   "metadata": {
    "ExecuteTime": {
     "end_time": "2020-01-10T19:01:32.148660Z",
     "start_time": "2020-01-10T19:01:32.143399Z"
    }
   },
   "outputs": [
    {
     "data": {
      "text/plain": [
       "1"
      ]
     },
     "execution_count": 23,
     "metadata": {},
     "output_type": "execute_result"
    }
   ],
   "source": [
    "len(df[df['crossfit'] > df['python']])"
   ]
  },
  {
   "cell_type": "markdown",
   "metadata": {},
   "source": [
    "#### 14. Jaka jest maksymalna wartość dla każdego z wyszukiwanych słów?"
   ]
  },
  {
   "cell_type": "code",
   "execution_count": 24,
   "metadata": {
    "ExecuteTime": {
     "end_time": "2020-01-10T19:01:32.492781Z",
     "start_time": "2020-01-10T19:01:32.485770Z"
    }
   },
   "outputs": [
    {
     "data": {
      "text/plain": [
       "crossfit     34\n",
       "python      100\n",
       "tofu         10\n",
       "dtype: int64"
      ]
     },
     "execution_count": 24,
     "metadata": {},
     "output_type": "execute_result"
    }
   ],
   "source": [
    "df[['crossfit', 'python', 'tofu']].max()"
   ]
  },
  {
   "cell_type": "markdown",
   "metadata": {
    "ExecuteTime": {
     "end_time": "2019-12-31T10:11:12.920242Z",
     "start_time": "2019-12-31T10:11:12.917417Z"
    }
   },
   "source": [
    "#### 15. Jaka jest minimalna wartość dla każdego z wyszukiwanych słów?"
   ]
  },
  {
   "cell_type": "code",
   "execution_count": 25,
   "metadata": {
    "ExecuteTime": {
     "end_time": "2020-01-10T19:01:32.827952Z",
     "start_time": "2020-01-10T19:01:32.821130Z"
    }
   },
   "outputs": [
    {
     "data": {
      "text/plain": [
       "crossfit     1\n",
       "python      28\n",
       "tofu         4\n",
       "dtype: int64"
      ]
     },
     "execution_count": 25,
     "metadata": {},
     "output_type": "execute_result"
    }
   ],
   "source": [
    "df[['crossfit', 'python', 'tofu']].min()"
   ]
  },
  {
   "cell_type": "markdown",
   "metadata": {},
   "source": [
    "#### 16. Stwórz nową kolumnę, która będzie zawierać tylko rok\n",
    "\n",
    "W tym celu możesz wykorzystać https://pandas.pydata.org/pandas-docs/stable/reference/api/pandas.Series.dt.html"
   ]
  },
  {
   "cell_type": "code",
   "execution_count": 26,
   "metadata": {
    "ExecuteTime": {
     "end_time": "2020-01-10T19:01:33.156420Z",
     "start_time": "2020-01-10T19:01:33.149487Z"
    }
   },
   "outputs": [],
   "source": [
    "df['Year'] = df['Date'].dt.year"
   ]
  },
  {
   "cell_type": "code",
   "execution_count": 27,
   "metadata": {
    "ExecuteTime": {
     "end_time": "2020-01-10T19:01:33.515622Z",
     "start_time": "2020-01-10T19:01:33.497267Z"
    }
   },
   "outputs": [
    {
     "data": {
      "text/html": [
       "<div>\n",
       "<style scoped>\n",
       "    .dataframe tbody tr th:only-of-type {\n",
       "        vertical-align: middle;\n",
       "    }\n",
       "\n",
       "    .dataframe tbody tr th {\n",
       "        vertical-align: top;\n",
       "    }\n",
       "\n",
       "    .dataframe thead th {\n",
       "        text-align: right;\n",
       "    }\n",
       "</style>\n",
       "<table border=\"1\" class=\"dataframe\">\n",
       "  <thead>\n",
       "    <tr style=\"text-align: right;\">\n",
       "      <th></th>\n",
       "      <th>Date</th>\n",
       "      <th>crossfit</th>\n",
       "      <th>python</th>\n",
       "      <th>tofu</th>\n",
       "      <th>Year</th>\n",
       "    </tr>\n",
       "  </thead>\n",
       "  <tbody>\n",
       "    <tr>\n",
       "      <th>0</th>\n",
       "      <td>2004-01-01</td>\n",
       "      <td>1</td>\n",
       "      <td>43</td>\n",
       "      <td>6</td>\n",
       "      <td>2004</td>\n",
       "    </tr>\n",
       "    <tr>\n",
       "      <th>1</th>\n",
       "      <td>2004-02-01</td>\n",
       "      <td>1</td>\n",
       "      <td>41</td>\n",
       "      <td>5</td>\n",
       "      <td>2004</td>\n",
       "    </tr>\n",
       "    <tr>\n",
       "      <th>2</th>\n",
       "      <td>2004-03-01</td>\n",
       "      <td>1</td>\n",
       "      <td>40</td>\n",
       "      <td>5</td>\n",
       "      <td>2004</td>\n",
       "    </tr>\n",
       "    <tr>\n",
       "      <th>3</th>\n",
       "      <td>2004-04-01</td>\n",
       "      <td>1</td>\n",
       "      <td>38</td>\n",
       "      <td>5</td>\n",
       "      <td>2004</td>\n",
       "    </tr>\n",
       "    <tr>\n",
       "      <th>4</th>\n",
       "      <td>2004-05-01</td>\n",
       "      <td>1</td>\n",
       "      <td>38</td>\n",
       "      <td>5</td>\n",
       "      <td>2004</td>\n",
       "    </tr>\n",
       "  </tbody>\n",
       "</table>\n",
       "</div>"
      ],
      "text/plain": [
       "        Date  crossfit  python  tofu  Year\n",
       "0 2004-01-01         1      43     6  2004\n",
       "1 2004-02-01         1      41     5  2004\n",
       "2 2004-03-01         1      40     5  2004\n",
       "3 2004-04-01         1      38     5  2004\n",
       "4 2004-05-01         1      38     5  2004"
      ]
     },
     "execution_count": 27,
     "metadata": {},
     "output_type": "execute_result"
    }
   ],
   "source": [
    "df.head()"
   ]
  },
  {
   "cell_type": "markdown",
   "metadata": {},
   "source": [
    "#### 17. Uzyskaj średnie roczne wartości dla kolumn crossfit, python i tofu (użyj `groupby`)"
   ]
  },
  {
   "cell_type": "code",
   "execution_count": 28,
   "metadata": {
    "ExecuteTime": {
     "end_time": "2020-01-10T19:01:34.148476Z",
     "start_time": "2020-01-10T19:01:34.126162Z"
    }
   },
   "outputs": [
    {
     "data": {
      "text/html": [
       "<div>\n",
       "<style scoped>\n",
       "    .dataframe tbody tr th:only-of-type {\n",
       "        vertical-align: middle;\n",
       "    }\n",
       "\n",
       "    .dataframe tbody tr th {\n",
       "        vertical-align: top;\n",
       "    }\n",
       "\n",
       "    .dataframe thead th {\n",
       "        text-align: right;\n",
       "    }\n",
       "</style>\n",
       "<table border=\"1\" class=\"dataframe\">\n",
       "  <thead>\n",
       "    <tr style=\"text-align: right;\">\n",
       "      <th></th>\n",
       "      <th>crossfit</th>\n",
       "      <th>python</th>\n",
       "      <th>tofu</th>\n",
       "    </tr>\n",
       "    <tr>\n",
       "      <th>Year</th>\n",
       "      <th></th>\n",
       "      <th></th>\n",
       "      <th></th>\n",
       "    </tr>\n",
       "  </thead>\n",
       "  <tbody>\n",
       "    <tr>\n",
       "      <th>2004</th>\n",
       "      <td>1.000000</td>\n",
       "      <td>38.666667</td>\n",
       "      <td>4.750000</td>\n",
       "    </tr>\n",
       "    <tr>\n",
       "      <th>2005</th>\n",
       "      <td>1.000000</td>\n",
       "      <td>38.166667</td>\n",
       "      <td>4.666667</td>\n",
       "    </tr>\n",
       "    <tr>\n",
       "      <th>2006</th>\n",
       "      <td>1.000000</td>\n",
       "      <td>34.333333</td>\n",
       "      <td>4.916667</td>\n",
       "    </tr>\n",
       "    <tr>\n",
       "      <th>2007</th>\n",
       "      <td>1.000000</td>\n",
       "      <td>31.916667</td>\n",
       "      <td>4.500000</td>\n",
       "    </tr>\n",
       "    <tr>\n",
       "      <th>2008</th>\n",
       "      <td>2.583333</td>\n",
       "      <td>29.916667</td>\n",
       "      <td>4.833333</td>\n",
       "    </tr>\n",
       "    <tr>\n",
       "      <th>2009</th>\n",
       "      <td>4.500000</td>\n",
       "      <td>30.750000</td>\n",
       "      <td>4.916667</td>\n",
       "    </tr>\n",
       "    <tr>\n",
       "      <th>2010</th>\n",
       "      <td>6.500000</td>\n",
       "      <td>29.500000</td>\n",
       "      <td>5.250000</td>\n",
       "    </tr>\n",
       "    <tr>\n",
       "      <th>2011</th>\n",
       "      <td>10.833333</td>\n",
       "      <td>30.000000</td>\n",
       "      <td>5.666667</td>\n",
       "    </tr>\n",
       "    <tr>\n",
       "      <th>2012</th>\n",
       "      <td>19.833333</td>\n",
       "      <td>31.166667</td>\n",
       "      <td>6.000000</td>\n",
       "    </tr>\n",
       "    <tr>\n",
       "      <th>2013</th>\n",
       "      <td>27.583333</td>\n",
       "      <td>35.083333</td>\n",
       "      <td>6.250000</td>\n",
       "    </tr>\n",
       "    <tr>\n",
       "      <th>2014</th>\n",
       "      <td>25.916667</td>\n",
       "      <td>37.666667</td>\n",
       "      <td>6.583333</td>\n",
       "    </tr>\n",
       "    <tr>\n",
       "      <th>2015</th>\n",
       "      <td>23.416667</td>\n",
       "      <td>41.750000</td>\n",
       "      <td>7.083333</td>\n",
       "    </tr>\n",
       "    <tr>\n",
       "      <th>2016</th>\n",
       "      <td>22.500000</td>\n",
       "      <td>52.666667</td>\n",
       "      <td>6.750000</td>\n",
       "    </tr>\n",
       "    <tr>\n",
       "      <th>2017</th>\n",
       "      <td>22.000000</td>\n",
       "      <td>67.333333</td>\n",
       "      <td>7.666667</td>\n",
       "    </tr>\n",
       "    <tr>\n",
       "      <th>2018</th>\n",
       "      <td>20.333333</td>\n",
       "      <td>77.666667</td>\n",
       "      <td>8.250000</td>\n",
       "    </tr>\n",
       "    <tr>\n",
       "      <th>2019</th>\n",
       "      <td>18.500000</td>\n",
       "      <td>89.583333</td>\n",
       "      <td>9.083333</td>\n",
       "    </tr>\n",
       "  </tbody>\n",
       "</table>\n",
       "</div>"
      ],
      "text/plain": [
       "       crossfit     python      tofu\n",
       "Year                                \n",
       "2004   1.000000  38.666667  4.750000\n",
       "2005   1.000000  38.166667  4.666667\n",
       "2006   1.000000  34.333333  4.916667\n",
       "2007   1.000000  31.916667  4.500000\n",
       "2008   2.583333  29.916667  4.833333\n",
       "2009   4.500000  30.750000  4.916667\n",
       "2010   6.500000  29.500000  5.250000\n",
       "2011  10.833333  30.000000  5.666667\n",
       "2012  19.833333  31.166667  6.000000\n",
       "2013  27.583333  35.083333  6.250000\n",
       "2014  25.916667  37.666667  6.583333\n",
       "2015  23.416667  41.750000  7.083333\n",
       "2016  22.500000  52.666667  6.750000\n",
       "2017  22.000000  67.333333  7.666667\n",
       "2018  20.333333  77.666667  8.250000\n",
       "2019  18.500000  89.583333  9.083333"
      ]
     },
     "execution_count": 28,
     "metadata": {},
     "output_type": "execute_result"
    }
   ],
   "source": [
    "df.groupby('Year').mean()"
   ]
  },
  {
   "cell_type": "markdown",
   "metadata": {},
   "source": [
    "#### 18. Stwórz nowy DataFrame z pogrupowanymi danymi z poprzedniego podpunktu"
   ]
  },
  {
   "cell_type": "code",
   "execution_count": 29,
   "metadata": {
    "ExecuteTime": {
     "end_time": "2020-01-10T19:01:34.858481Z",
     "start_time": "2020-01-10T19:01:34.851937Z"
    }
   },
   "outputs": [],
   "source": [
    "df_grouped = df.groupby('Year').mean()"
   ]
  },
  {
   "cell_type": "code",
   "execution_count": 30,
   "metadata": {
    "ExecuteTime": {
     "end_time": "2020-01-10T19:01:35.236843Z",
     "start_time": "2020-01-10T19:01:35.228164Z"
    }
   },
   "outputs": [
    {
     "name": "stdout",
     "output_type": "stream",
     "text": [
      "<class 'pandas.core.frame.DataFrame'>\n",
      "Int64Index: 16 entries, 2004 to 2019\n",
      "Data columns (total 3 columns):\n",
      "crossfit    16 non-null float64\n",
      "python      16 non-null float64\n",
      "tofu        16 non-null float64\n",
      "dtypes: float64(3)\n",
      "memory usage: 512.0 bytes\n"
     ]
    }
   ],
   "source": [
    "df_grouped.info()"
   ]
  },
  {
   "cell_type": "markdown",
   "metadata": {},
   "source": [
    "#### 19. Ustaw kolumnę \"Date\" jako indeks DataFrame'a"
   ]
  },
  {
   "cell_type": "code",
   "execution_count": 30,
   "metadata": {
    "ExecuteTime": {
     "end_time": "2020-01-09T14:05:04.242647Z",
     "start_time": "2020-01-09T14:05:04.238231Z"
    }
   },
   "outputs": [],
   "source": [
    "df.set_index('Date', inplace=True)"
   ]
  },
  {
   "cell_type": "code",
   "execution_count": 31,
   "metadata": {
    "ExecuteTime": {
     "end_time": "2020-01-09T14:05:04.258543Z",
     "start_time": "2020-01-09T14:05:04.245935Z"
    }
   },
   "outputs": [
    {
     "data": {
      "text/html": [
       "<div>\n",
       "<style scoped>\n",
       "    .dataframe tbody tr th:only-of-type {\n",
       "        vertical-align: middle;\n",
       "    }\n",
       "\n",
       "    .dataframe tbody tr th {\n",
       "        vertical-align: top;\n",
       "    }\n",
       "\n",
       "    .dataframe thead th {\n",
       "        text-align: right;\n",
       "    }\n",
       "</style>\n",
       "<table border=\"1\" class=\"dataframe\">\n",
       "  <thead>\n",
       "    <tr style=\"text-align: right;\">\n",
       "      <th></th>\n",
       "      <th>crossfit</th>\n",
       "      <th>python</th>\n",
       "      <th>tofu</th>\n",
       "      <th>Year</th>\n",
       "    </tr>\n",
       "    <tr>\n",
       "      <th>Date</th>\n",
       "      <th></th>\n",
       "      <th></th>\n",
       "      <th></th>\n",
       "      <th></th>\n",
       "    </tr>\n",
       "  </thead>\n",
       "  <tbody>\n",
       "    <tr>\n",
       "      <th>2004-01-01</th>\n",
       "      <td>1</td>\n",
       "      <td>43</td>\n",
       "      <td>6</td>\n",
       "      <td>2004</td>\n",
       "    </tr>\n",
       "    <tr>\n",
       "      <th>2004-02-01</th>\n",
       "      <td>1</td>\n",
       "      <td>41</td>\n",
       "      <td>5</td>\n",
       "      <td>2004</td>\n",
       "    </tr>\n",
       "    <tr>\n",
       "      <th>2004-03-01</th>\n",
       "      <td>1</td>\n",
       "      <td>40</td>\n",
       "      <td>5</td>\n",
       "      <td>2004</td>\n",
       "    </tr>\n",
       "    <tr>\n",
       "      <th>2004-04-01</th>\n",
       "      <td>1</td>\n",
       "      <td>38</td>\n",
       "      <td>5</td>\n",
       "      <td>2004</td>\n",
       "    </tr>\n",
       "    <tr>\n",
       "      <th>2004-05-01</th>\n",
       "      <td>1</td>\n",
       "      <td>38</td>\n",
       "      <td>5</td>\n",
       "      <td>2004</td>\n",
       "    </tr>\n",
       "  </tbody>\n",
       "</table>\n",
       "</div>"
      ],
      "text/plain": [
       "            crossfit  python  tofu  Year\n",
       "Date                                    \n",
       "2004-01-01         1      43     6  2004\n",
       "2004-02-01         1      41     5  2004\n",
       "2004-03-01         1      40     5  2004\n",
       "2004-04-01         1      38     5  2004\n",
       "2004-05-01         1      38     5  2004"
      ]
     },
     "execution_count": 31,
     "metadata": {},
     "output_type": "execute_result"
    }
   ],
   "source": [
    "df.head()"
   ]
  },
  {
   "cell_type": "markdown",
   "metadata": {},
   "source": [
    "#### 20. Stwórz wykres liniowy wartości dla wszystkich 3 słów w czasie (taki jak na stronie Google Trends), wykorzystujący domyślne ustawienia matplotlib"
   ]
  },
  {
   "cell_type": "code",
   "execution_count": 32,
   "metadata": {
    "ExecuteTime": {
     "end_time": "2020-01-09T14:05:04.705518Z",
     "start_time": "2020-01-09T14:05:04.261701Z"
    }
   },
   "outputs": [
    {
     "data": {
      "image/png": "[encoded data removed]",
      "text/plain": [
       "<Figure size 432x288 with 1 Axes>"
      ]
     },
     "metadata": {
      "needs_background": "light"
     },
     "output_type": "display_data"
    }
   ],
   "source": [
    "df[['crossfit', 'python', 'tofu']].plot();"
   ]
  },
  {
   "cell_type": "markdown",
   "metadata": {},
   "source": [
    "#### 21. Zmodyfikuj swój wykres, tak by wizualnie jak najbardziej przypominał ten z Google Trends (link na górze notebooka) :)"
   ]
  },
  {
   "cell_type": "code",
   "execution_count": 33,
   "metadata": {
    "ExecuteTime": {
     "end_time": "2020-01-09T14:05:04.991195Z",
     "start_time": "2020-01-09T14:05:04.707972Z"
    }
   },
   "outputs": [
    {
     "data": {
      "image/png": "[encoded data removed]",
      "text/plain": [
       "<Figure size 1080x360 with 1 Axes>"
      ]
     },
     "metadata": {
      "needs_background": "dark"
     },
     "output_type": "display_data"
    }
   ],
   "source": [
    "fig, ax = plt.subplots(figsize=(15,5))\n",
    "\n",
    "# kolory Google\n",
    "ax.plot(df['crossfit'], color='#4285F4', linewidth=3)\n",
    "ax.plot(df['python'], color='#DB4437', linewidth=3)\n",
    "ax.plot(df['tofu'], color='#F4B400', linewidth=3)\n",
    "\n",
    "# usuwanie ramki wykresu\n",
    "ax.spines['top'].set_visible(False)\n",
    "ax.spines['right'].set_visible(False)\n",
    "ax.spines['left'].set_visible(False)\n",
    "ax.spines['bottom'].set_visible(False)\n",
    "\n",
    "# dodanie poziomych linii w tle\n",
    "ax.grid(axis='y', alpha=0.2, color='grey')\n",
    "\n",
    "# dostosowanie tick'ów na osi y\n",
    "ax.set_yticks([0, 25, 50, 75, 100])\n",
    "\n",
    "# dostosowanie tick'ów na osi x\n",
    "ax.set_xticks(df.index[::46]) # frequency\n",
    "\n",
    "# kolory opisów obu osi\n",
    "ax.tick_params(axis='both', labelcolor='#C0C0C0', color='#C0C0C0')\n",
    "\n",
    "# legenda\n",
    "ax.legend(bbox_to_anchor=(1.2, 0.5), frameon=False, fontsize=14);"
   ]
  },
  {
   "cell_type": "markdown",
   "metadata": {},
   "source": [
    "## Część praktyczna II (zadanie domowe)\n",
    "\n",
    "Wykorzystamy dane z eksperymentu na myszach prowadzonego na Uniwerystecie UCLA przez studentów. https://mdcune.psych.ucla.edu/modules/bioinformatics/extras/QTL_Sample_data.xls/view"
   ]
  },
  {
   "cell_type": "markdown",
   "metadata": {},
   "source": [
    "#### 1. Ściągnij i wczytaj dane "
   ]
  },
  {
   "cell_type": "code",
   "execution_count": 34,
   "metadata": {
    "ExecuteTime": {
     "end_time": "2020-01-09T14:05:05.331622Z",
     "start_time": "2020-01-09T14:05:04.994697Z"
    }
   },
   "outputs": [],
   "source": [
    "df2 = pd.read_excel('QTL_Sample_data.xls')"
   ]
  },
  {
   "cell_type": "markdown",
   "metadata": {},
   "source": [
    "#### 2. Sprawdź strukturę wczytanej tabeli i typy danych"
   ]
  },
  {
   "cell_type": "code",
   "execution_count": 35,
   "metadata": {
    "ExecuteTime": {
     "end_time": "2020-01-09T14:05:05.355610Z",
     "start_time": "2020-01-09T14:05:05.333777Z"
    }
   },
   "outputs": [
    {
     "data": {
      "text/html": [
       "<div>\n",
       "<style scoped>\n",
       "    .dataframe tbody tr th:only-of-type {\n",
       "        vertical-align: middle;\n",
       "    }\n",
       "\n",
       "    .dataframe tbody tr th {\n",
       "        vertical-align: top;\n",
       "    }\n",
       "\n",
       "    .dataframe thead th {\n",
       "        text-align: right;\n",
       "    }\n",
       "</style>\n",
       "<table border=\"1\" class=\"dataframe\">\n",
       "  <thead>\n",
       "    <tr style=\"text-align: right;\">\n",
       "      <th></th>\n",
       "      <th>ID</th>\n",
       "      <th>Point</th>\n",
       "      <th>Strain</th>\n",
       "      <th>sex</th>\n",
       "      <th>sex#</th>\n",
       "      <th>age</th>\n",
       "      <th>bodywt</th>\n",
       "      <th>brainwt</th>\n",
       "      <th>MedUNshOB</th>\n",
       "      <th>Res1_sex</th>\n",
       "      <th>Res2_sex-age</th>\n",
       "      <th>Res3_sex-age-bw</th>\n",
       "      <th>Res4_sex-age-bw-brnw</th>\n",
       "    </tr>\n",
       "  </thead>\n",
       "  <tbody>\n",
       "    <tr>\n",
       "      <th>0</th>\n",
       "      <td>169</td>\n",
       "      <td>0.3</td>\n",
       "      <td>B</td>\n",
       "      <td>F</td>\n",
       "      <td>2</td>\n",
       "      <td>189</td>\n",
       "      <td>29.4</td>\n",
       "      <td>495.8</td>\n",
       "      <td>31.976</td>\n",
       "      <td>11.49506</td>\n",
       "      <td>9.57071</td>\n",
       "      <td>9.09569</td>\n",
       "      <td>7.37700</td>\n",
       "    </tr>\n",
       "    <tr>\n",
       "      <th>1</th>\n",
       "      <td>171</td>\n",
       "      <td>0.3</td>\n",
       "      <td>B</td>\n",
       "      <td>F</td>\n",
       "      <td>2</td>\n",
       "      <td>51</td>\n",
       "      <td>19.7</td>\n",
       "      <td>474.9</td>\n",
       "      <td>24.772</td>\n",
       "      <td>4.29106</td>\n",
       "      <td>4.92325</td>\n",
       "      <td>4.77891</td>\n",
       "      <td>2.92035</td>\n",
       "    </tr>\n",
       "    <tr>\n",
       "      <th>2</th>\n",
       "      <td>232</td>\n",
       "      <td>0.3</td>\n",
       "      <td>B</td>\n",
       "      <td>M</td>\n",
       "      <td>1</td>\n",
       "      <td>294</td>\n",
       "      <td>35.0</td>\n",
       "      <td>476.1</td>\n",
       "      <td>24.836</td>\n",
       "      <td>4.44382</td>\n",
       "      <td>0.57692</td>\n",
       "      <td>0.30106</td>\n",
       "      <td>-0.74414</td>\n",
       "    </tr>\n",
       "    <tr>\n",
       "      <th>3</th>\n",
       "      <td>1709</td>\n",
       "      <td>0.3</td>\n",
       "      <td>B</td>\n",
       "      <td>M</td>\n",
       "      <td>1</td>\n",
       "      <td>70</td>\n",
       "      <td>26.0</td>\n",
       "      <td>478.5</td>\n",
       "      <td>22.957</td>\n",
       "      <td>2.56518</td>\n",
       "      <td>3.08886</td>\n",
       "      <td>2.65279</td>\n",
       "      <td>0.89738</td>\n",
       "    </tr>\n",
       "    <tr>\n",
       "      <th>4</th>\n",
       "      <td>247</td>\n",
       "      <td>0.4</td>\n",
       "      <td>D</td>\n",
       "      <td>M</td>\n",
       "      <td>1</td>\n",
       "      <td>203</td>\n",
       "      <td>26.7</td>\n",
       "      <td>397.2</td>\n",
       "      <td>20.035</td>\n",
       "      <td>-0.35698</td>\n",
       "      <td>-2.53805</td>\n",
       "      <td>-2.35912</td>\n",
       "      <td>-1.33226</td>\n",
       "    </tr>\n",
       "  </tbody>\n",
       "</table>\n",
       "</div>"
      ],
      "text/plain": [
       "     ID  Point    Strain       sex  sex#  age  bodywt  brainwt  MedUNshOB  \\\n",
       "0   169    0.3  B         F            2  189    29.4    495.8     31.976   \n",
       "1   171    0.3  B         F            2   51    19.7    474.9     24.772   \n",
       "2   232    0.3  B         M            1  294    35.0    476.1     24.836   \n",
       "3  1709    0.3  B         M            1   70    26.0    478.5     22.957   \n",
       "4   247    0.4  D         M            1  203    26.7    397.2     20.035   \n",
       "\n",
       "   Res1_sex  Res2_sex-age  Res3_sex-age-bw  Res4_sex-age-bw-brnw  \n",
       "0  11.49506       9.57071          9.09569               7.37700  \n",
       "1   4.29106       4.92325          4.77891               2.92035  \n",
       "2   4.44382       0.57692          0.30106              -0.74414  \n",
       "3   2.56518       3.08886          2.65279               0.89738  \n",
       "4  -0.35698      -2.53805         -2.35912              -1.33226  "
      ]
     },
     "execution_count": 35,
     "metadata": {},
     "output_type": "execute_result"
    }
   ],
   "source": [
    "df2.head()"
   ]
  },
  {
   "cell_type": "code",
   "execution_count": 36,
   "metadata": {
    "ExecuteTime": {
     "end_time": "2020-01-09T14:05:05.367424Z",
     "start_time": "2020-01-09T14:05:05.358112Z"
    }
   },
   "outputs": [
    {
     "name": "stdout",
     "output_type": "stream",
     "text": [
      "<class 'pandas.core.frame.DataFrame'>\n",
      "RangeIndex: 135 entries, 0 to 134\n",
      "Data columns (total 13 columns):\n",
      "ID                      135 non-null int64\n",
      "Point                   135 non-null float64\n",
      "Strain                  135 non-null object\n",
      "sex                     135 non-null object\n",
      "sex#                    135 non-null int64\n",
      "age                     135 non-null int64\n",
      "bodywt                  135 non-null float64\n",
      "brainwt                 135 non-null float64\n",
      "MedUNshOB               135 non-null float64\n",
      "Res1_sex                135 non-null float64\n",
      "Res2_sex-age            135 non-null float64\n",
      "Res3_sex-age-bw         135 non-null float64\n",
      "Res4_sex-age-bw-brnw    135 non-null float64\n",
      "dtypes: float64(8), int64(3), object(2)\n",
      "memory usage: 13.8+ KB\n"
     ]
    }
   ],
   "source": [
    "df2.info()"
   ]
  },
  {
   "cell_type": "markdown",
   "metadata": {},
   "source": [
    "#### 3. Sprawdź jaki był średni wiek (age) myszy"
   ]
  },
  {
   "cell_type": "code",
   "execution_count": 37,
   "metadata": {
    "ExecuteTime": {
     "end_time": "2020-01-09T14:05:05.374273Z",
     "start_time": "2020-01-09T14:05:05.369791Z"
    }
   },
   "outputs": [
    {
     "data": {
      "text/plain": [
       "87.36296296296297"
      ]
     },
     "execution_count": 37,
     "metadata": {},
     "output_type": "execute_result"
    }
   ],
   "source": [
    "df2['age'].mean()"
   ]
  },
  {
   "cell_type": "markdown",
   "metadata": {
    "ExecuteTime": {
     "end_time": "2019-12-31T13:53:33.886261Z",
     "start_time": "2019-12-31T13:53:33.883505Z"
    }
   },
   "source": [
    "#### 4. Sprawdź jaka była największa wartość brainwt"
   ]
  },
  {
   "cell_type": "code",
   "execution_count": 38,
   "metadata": {
    "ExecuteTime": {
     "end_time": "2020-01-09T14:05:05.381104Z",
     "start_time": "2020-01-09T14:05:05.376591Z"
    }
   },
   "outputs": [
    {
     "data": {
      "text/plain": [
       "551.5"
      ]
     },
     "execution_count": 38,
     "metadata": {},
     "output_type": "execute_result"
    }
   ],
   "source": [
    "df2['brainwt'].max()"
   ]
  },
  {
   "cell_type": "markdown",
   "metadata": {},
   "source": [
    "#### 5. Stwórz histogram wartości brainwt"
   ]
  },
  {
   "cell_type": "code",
   "execution_count": 39,
   "metadata": {
    "ExecuteTime": {
     "end_time": "2020-01-09T14:05:05.643319Z",
     "start_time": "2020-01-09T14:05:05.383394Z"
    }
   },
   "outputs": [
    {
     "data": {
      "image/png": "[encoded data removed]",
      "text/plain": [
       "<Figure size 576x360 with 1 Axes>"
      ]
     },
     "metadata": {
      "needs_background": "light"
     },
     "output_type": "display_data"
    }
   ],
   "source": [
    "fig, ax = plt.subplots(figsize=(8,5))\n",
    "ax.hist(df2['brainwt'], color='#DB4437')\n",
    "ax.set_title('Histogram of brainwt values', fontsize=16)\n",
    "ax.set_facecolor('white');"
   ]
  },
  {
   "cell_type": "markdown",
   "metadata": {
    "ExecuteTime": {
     "end_time": "2019-12-31T14:04:15.868442Z",
     "start_time": "2019-12-31T14:04:15.850640Z"
    }
   },
   "source": [
    "#### 6. Sprawdź jaka jest płeć (sex) myszy o ID 1709"
   ]
  },
  {
   "cell_type": "code",
   "execution_count": 40,
   "metadata": {
    "ExecuteTime": {
     "end_time": "2020-01-09T14:05:05.656335Z",
     "start_time": "2020-01-09T14:05:05.646462Z"
    }
   },
   "outputs": [
    {
     "data": {
      "text/plain": [
       "3    M       \n",
       "Name: sex, dtype: object"
      ]
     },
     "execution_count": 40,
     "metadata": {},
     "output_type": "execute_result"
    }
   ],
   "source": [
    "df2[df2['ID'] == 1709]['sex']"
   ]
  },
  {
   "cell_type": "markdown",
   "metadata": {
    "ExecuteTime": {
     "end_time": "2019-12-31T14:20:55.191127Z",
     "start_time": "2019-12-31T14:20:55.187739Z"
    }
   },
   "source": [
    "#### 7. Sprawdź jakie ID miała mysz o najwyższej wartości bodywt"
   ]
  },
  {
   "cell_type": "code",
   "execution_count": 41,
   "metadata": {
    "ExecuteTime": {
     "end_time": "2020-01-09T14:05:05.677244Z",
     "start_time": "2020-01-09T14:05:05.658689Z"
    }
   },
   "outputs": [
    {
     "data": {
      "text/html": [
       "<div>\n",
       "<style scoped>\n",
       "    .dataframe tbody tr th:only-of-type {\n",
       "        vertical-align: middle;\n",
       "    }\n",
       "\n",
       "    .dataframe tbody tr th {\n",
       "        vertical-align: top;\n",
       "    }\n",
       "\n",
       "    .dataframe thead th {\n",
       "        text-align: right;\n",
       "    }\n",
       "</style>\n",
       "<table border=\"1\" class=\"dataframe\">\n",
       "  <thead>\n",
       "    <tr style=\"text-align: right;\">\n",
       "      <th></th>\n",
       "      <th>ID</th>\n",
       "      <th>Point</th>\n",
       "      <th>Strain</th>\n",
       "      <th>sex</th>\n",
       "      <th>sex#</th>\n",
       "      <th>age</th>\n",
       "      <th>bodywt</th>\n",
       "      <th>brainwt</th>\n",
       "      <th>MedUNshOB</th>\n",
       "      <th>Res1_sex</th>\n",
       "      <th>Res2_sex-age</th>\n",
       "      <th>Res3_sex-age-bw</th>\n",
       "      <th>Res4_sex-age-bw-brnw</th>\n",
       "    </tr>\n",
       "  </thead>\n",
       "  <tbody>\n",
       "    <tr>\n",
       "      <th>2</th>\n",
       "      <td>232</td>\n",
       "      <td>0.3</td>\n",
       "      <td>B</td>\n",
       "      <td>M</td>\n",
       "      <td>1</td>\n",
       "      <td>294</td>\n",
       "      <td>35.0</td>\n",
       "      <td>476.1</td>\n",
       "      <td>24.836</td>\n",
       "      <td>4.44382</td>\n",
       "      <td>0.57692</td>\n",
       "      <td>0.30106</td>\n",
       "      <td>-0.74414</td>\n",
       "    </tr>\n",
       "  </tbody>\n",
       "</table>\n",
       "</div>"
      ],
      "text/plain": [
       "    ID  Point    Strain       sex  sex#  age  bodywt  brainwt  MedUNshOB  \\\n",
       "2  232    0.3  B         M            1  294    35.0    476.1     24.836   \n",
       "\n",
       "   Res1_sex  Res2_sex-age  Res3_sex-age-bw  Res4_sex-age-bw-brnw  \n",
       "2   4.44382       0.57692          0.30106              -0.74414  "
      ]
     },
     "execution_count": 41,
     "metadata": {},
     "output_type": "execute_result"
    }
   ],
   "source": [
    "df2[df2['bodywt'] == df2['bodywt'].max()]"
   ]
  },
  {
   "cell_type": "code",
   "execution_count": 42,
   "metadata": {
    "ExecuteTime": {
     "end_time": "2020-01-09T14:05:05.688322Z",
     "start_time": "2020-01-09T14:05:05.680232Z"
    }
   },
   "outputs": [
    {
     "data": {
      "text/plain": [
       "2    232\n",
       "Name: ID, dtype: int64"
      ]
     },
     "execution_count": 42,
     "metadata": {},
     "output_type": "execute_result"
    }
   ],
   "source": [
    "df2[df2['bodywt'] == df2['bodywt'].max()]['ID']"
   ]
  },
  {
   "cell_type": "markdown",
   "metadata": {},
   "source": [
    "#### 8. Sprawdź ile było myszy płci męskiej i żeńskiej"
   ]
  },
  {
   "cell_type": "code",
   "execution_count": 43,
   "metadata": {
    "ExecuteTime": {
     "end_time": "2020-01-09T14:05:05.701343Z",
     "start_time": "2020-01-09T14:05:05.691742Z"
    }
   },
   "outputs": [
    {
     "data": {
      "text/plain": [
       "M           40\n",
       "F           37\n",
       "M           31\n",
       "F           27\n",
       "Name: sex, dtype: int64"
      ]
     },
     "execution_count": 43,
     "metadata": {},
     "output_type": "execute_result"
    }
   ],
   "source": [
    "# dlaczego mamy podwójne wartości M i F?\n",
    "df2['sex'].value_counts()"
   ]
  },
  {
   "cell_type": "code",
   "execution_count": 44,
   "metadata": {
    "ExecuteTime": {
     "end_time": "2020-01-09T14:05:05.711154Z",
     "start_time": "2020-01-09T14:05:05.704430Z"
    }
   },
   "outputs": [
    {
     "data": {
      "text/plain": [
       "Index(['M', 'F', 'M       ', 'F       '], dtype='object')"
      ]
     },
     "execution_count": 44,
     "metadata": {},
     "output_type": "execute_result"
    }
   ],
   "source": [
    "# value_counts zwraca nam pandas Series, więc możemy podejrzeć,\n",
    "# jakie wartości znajdują się w jej tymczasowym indeksie, który tworzą nasze F i M\n",
    "# jak widać, różnice są spowodowane przez spacje, które musimy usunąć, by móc pogrupować dane\n",
    "df2['sex'].value_counts().index"
   ]
  },
  {
   "cell_type": "code",
   "execution_count": 45,
   "metadata": {
    "ExecuteTime": {
     "end_time": "2020-01-09T14:05:05.716459Z",
     "start_time": "2020-01-09T14:05:05.713187Z"
    }
   },
   "outputs": [],
   "source": [
    "# strip usuwa spacje wokół stringa\n",
    "df2['sex'] = df2['sex'].str.strip()"
   ]
  },
  {
   "cell_type": "code",
   "execution_count": 46,
   "metadata": {
    "ExecuteTime": {
     "end_time": "2020-01-09T14:05:05.724624Z",
     "start_time": "2020-01-09T14:05:05.718472Z"
    }
   },
   "outputs": [
    {
     "data": {
      "text/plain": [
       "M    71\n",
       "F    64\n",
       "Name: sex, dtype: int64"
      ]
     },
     "execution_count": 46,
     "metadata": {},
     "output_type": "execute_result"
    }
   ],
   "source": [
    "df2['sex'].value_counts()"
   ]
  },
  {
   "cell_type": "code",
   "execution_count": 47,
   "metadata": {
    "ExecuteTime": {
     "end_time": "2020-01-09T14:05:05.733417Z",
     "start_time": "2020-01-09T14:05:05.726898Z"
    }
   },
   "outputs": [
    {
     "data": {
      "text/plain": [
       "1    71\n",
       "2    64\n",
       "Name: sex#, dtype: int64"
      ]
     },
     "execution_count": 47,
     "metadata": {},
     "output_type": "execute_result"
    }
   ],
   "source": [
    "# sprawdź, czy liczbowo jest to zgodne z drugą kolumną sex#\n",
    "df2['sex#'].value_counts()"
   ]
  },
  {
   "cell_type": "markdown",
   "metadata": {},
   "source": [
    "#### 9. Sprawdź ile było rodzajów linii myszy (Strain) w badaniu"
   ]
  },
  {
   "cell_type": "code",
   "execution_count": 48,
   "metadata": {
    "ExecuteTime": {
     "end_time": "2020-01-09T14:05:05.740478Z",
     "start_time": "2020-01-09T14:05:05.735440Z"
    }
   },
   "outputs": [
    {
     "data": {
      "text/plain": [
       "38"
      ]
     },
     "execution_count": 48,
     "metadata": {},
     "output_type": "execute_result"
    }
   ],
   "source": [
    "df2['Strain'].nunique()"
   ]
  },
  {
   "cell_type": "code",
   "execution_count": 49,
   "metadata": {
    "ExecuteTime": {
     "end_time": "2020-01-09T14:05:05.761007Z",
     "start_time": "2020-01-09T14:05:05.742404Z"
    }
   },
   "outputs": [
    {
     "data": {
      "text/html": [
       "<div>\n",
       "<style scoped>\n",
       "    .dataframe tbody tr th:only-of-type {\n",
       "        vertical-align: middle;\n",
       "    }\n",
       "\n",
       "    .dataframe tbody tr th {\n",
       "        vertical-align: top;\n",
       "    }\n",
       "\n",
       "    .dataframe thead th {\n",
       "        text-align: right;\n",
       "    }\n",
       "</style>\n",
       "<table border=\"1\" class=\"dataframe\">\n",
       "  <thead>\n",
       "    <tr style=\"text-align: right;\">\n",
       "      <th></th>\n",
       "      <th>ID</th>\n",
       "      <th>Point</th>\n",
       "      <th>Strain</th>\n",
       "      <th>sex</th>\n",
       "      <th>sex#</th>\n",
       "      <th>age</th>\n",
       "      <th>bodywt</th>\n",
       "      <th>brainwt</th>\n",
       "      <th>MedUNshOB</th>\n",
       "      <th>Res1_sex</th>\n",
       "      <th>Res2_sex-age</th>\n",
       "      <th>Res3_sex-age-bw</th>\n",
       "      <th>Res4_sex-age-bw-brnw</th>\n",
       "    </tr>\n",
       "  </thead>\n",
       "  <tbody>\n",
       "    <tr>\n",
       "      <th>0</th>\n",
       "      <td>169</td>\n",
       "      <td>0.3</td>\n",
       "      <td>B</td>\n",
       "      <td>F</td>\n",
       "      <td>2</td>\n",
       "      <td>189</td>\n",
       "      <td>29.4</td>\n",
       "      <td>495.8</td>\n",
       "      <td>31.976</td>\n",
       "      <td>11.49506</td>\n",
       "      <td>9.57071</td>\n",
       "      <td>9.09569</td>\n",
       "      <td>7.37700</td>\n",
       "    </tr>\n",
       "    <tr>\n",
       "      <th>1</th>\n",
       "      <td>171</td>\n",
       "      <td>0.3</td>\n",
       "      <td>B</td>\n",
       "      <td>F</td>\n",
       "      <td>2</td>\n",
       "      <td>51</td>\n",
       "      <td>19.7</td>\n",
       "      <td>474.9</td>\n",
       "      <td>24.772</td>\n",
       "      <td>4.29106</td>\n",
       "      <td>4.92325</td>\n",
       "      <td>4.77891</td>\n",
       "      <td>2.92035</td>\n",
       "    </tr>\n",
       "    <tr>\n",
       "      <th>2</th>\n",
       "      <td>232</td>\n",
       "      <td>0.3</td>\n",
       "      <td>B</td>\n",
       "      <td>M</td>\n",
       "      <td>1</td>\n",
       "      <td>294</td>\n",
       "      <td>35.0</td>\n",
       "      <td>476.1</td>\n",
       "      <td>24.836</td>\n",
       "      <td>4.44382</td>\n",
       "      <td>0.57692</td>\n",
       "      <td>0.30106</td>\n",
       "      <td>-0.74414</td>\n",
       "    </tr>\n",
       "    <tr>\n",
       "      <th>3</th>\n",
       "      <td>1709</td>\n",
       "      <td>0.3</td>\n",
       "      <td>B</td>\n",
       "      <td>M</td>\n",
       "      <td>1</td>\n",
       "      <td>70</td>\n",
       "      <td>26.0</td>\n",
       "      <td>478.5</td>\n",
       "      <td>22.957</td>\n",
       "      <td>2.56518</td>\n",
       "      <td>3.08886</td>\n",
       "      <td>2.65279</td>\n",
       "      <td>0.89738</td>\n",
       "    </tr>\n",
       "    <tr>\n",
       "      <th>4</th>\n",
       "      <td>247</td>\n",
       "      <td>0.4</td>\n",
       "      <td>D</td>\n",
       "      <td>M</td>\n",
       "      <td>1</td>\n",
       "      <td>203</td>\n",
       "      <td>26.7</td>\n",
       "      <td>397.2</td>\n",
       "      <td>20.035</td>\n",
       "      <td>-0.35698</td>\n",
       "      <td>-2.53805</td>\n",
       "      <td>-2.35912</td>\n",
       "      <td>-1.33226</td>\n",
       "    </tr>\n",
       "  </tbody>\n",
       "</table>\n",
       "</div>"
      ],
      "text/plain": [
       "     ID  Point    Strain sex  sex#  age  bodywt  brainwt  MedUNshOB  Res1_sex  \\\n",
       "0   169    0.3  B          F     2  189    29.4    495.8     31.976  11.49506   \n",
       "1   171    0.3  B          F     2   51    19.7    474.9     24.772   4.29106   \n",
       "2   232    0.3  B          M     1  294    35.0    476.1     24.836   4.44382   \n",
       "3  1709    0.3  B          M     1   70    26.0    478.5     22.957   2.56518   \n",
       "4   247    0.4  D          M     1  203    26.7    397.2     20.035  -0.35698   \n",
       "\n",
       "   Res2_sex-age  Res3_sex-age-bw  Res4_sex-age-bw-brnw  \n",
       "0       9.57071          9.09569               7.37700  \n",
       "1       4.92325          4.77891               2.92035  \n",
       "2       0.57692          0.30106              -0.74414  \n",
       "3       3.08886          2.65279               0.89738  \n",
       "4      -2.53805         -2.35912              -1.33226  "
      ]
     },
     "execution_count": 49,
     "metadata": {},
     "output_type": "execute_result"
    }
   ],
   "source": [
    "df2.head()"
   ]
  },
  {
   "cell_type": "markdown",
   "metadata": {},
   "source": [
    "#### 10. Sprawdź jaka jest średnia wartość brainwt i bodywt odpowiednio dla myszy płci żeńskiej i męskiej"
   ]
  },
  {
   "cell_type": "code",
   "execution_count": 50,
   "metadata": {
    "ExecuteTime": {
     "end_time": "2020-01-09T14:05:05.770059Z",
     "start_time": "2020-01-09T14:05:05.762954Z"
    }
   },
   "outputs": [],
   "source": [
    "df2_mean = df2[['sex', 'bodywt', 'brainwt']].groupby('sex').mean()"
   ]
  },
  {
   "cell_type": "code",
   "execution_count": 51,
   "metadata": {
    "ExecuteTime": {
     "end_time": "2020-01-09T14:05:05.779563Z",
     "start_time": "2020-01-09T14:05:05.771976Z"
    }
   },
   "outputs": [
    {
     "data": {
      "text/html": [
       "<div>\n",
       "<style scoped>\n",
       "    .dataframe tbody tr th:only-of-type {\n",
       "        vertical-align: middle;\n",
       "    }\n",
       "\n",
       "    .dataframe tbody tr th {\n",
       "        vertical-align: top;\n",
       "    }\n",
       "\n",
       "    .dataframe thead th {\n",
       "        text-align: right;\n",
       "    }\n",
       "</style>\n",
       "<table border=\"1\" class=\"dataframe\">\n",
       "  <thead>\n",
       "    <tr style=\"text-align: right;\">\n",
       "      <th></th>\n",
       "      <th>bodywt</th>\n",
       "      <th>brainwt</th>\n",
       "    </tr>\n",
       "    <tr>\n",
       "      <th>sex</th>\n",
       "      <th></th>\n",
       "      <th></th>\n",
       "    </tr>\n",
       "  </thead>\n",
       "  <tbody>\n",
       "    <tr>\n",
       "      <th>F</th>\n",
       "      <td>20.357187</td>\n",
       "      <td>422.742188</td>\n",
       "    </tr>\n",
       "    <tr>\n",
       "      <th>M</th>\n",
       "      <td>22.194225</td>\n",
       "      <td>420.369014</td>\n",
       "    </tr>\n",
       "  </tbody>\n",
       "</table>\n",
       "</div>"
      ],
      "text/plain": [
       "        bodywt     brainwt\n",
       "sex                       \n",
       "F    20.357187  422.742188\n",
       "M    22.194225  420.369014"
      ]
     },
     "execution_count": 51,
     "metadata": {},
     "output_type": "execute_result"
    }
   ],
   "source": [
    "df2_mean"
   ]
  },
  {
   "cell_type": "markdown",
   "metadata": {},
   "source": [
    "#### 11. Narysuj barplot (wykres słupkowy dla średnich bodywt i brainwt dla obu płci z pytania 10.)"
   ]
  },
  {
   "cell_type": "code",
   "execution_count": 52,
   "metadata": {
    "ExecuteTime": {
     "end_time": "2020-01-09T14:05:06.104446Z",
     "start_time": "2020-01-09T14:05:05.782160Z"
    }
   },
   "outputs": [
    {
     "data": {
      "image/png": "[encoded data removed]",
      "text/plain": [
       "<Figure size 864x360 with 2 Axes>"
      ]
     },
     "metadata": {
      "needs_background": "light"
     },
     "output_type": "display_data"
    }
   ],
   "source": [
    "fig, axes = plt.subplots(nrows=1, ncols=2, figsize=(12,5))\n",
    "\n",
    "axes[0].bar(x=df2_mean.index, height=df2_mean['bodywt'], color='#DB4437')\n",
    "axes[0].set_title('Średnie bodywt myszy')\n",
    "axes[0].set_ylim(0,40)\n",
    "\n",
    "axes[1].bar(x=df2_mean.index, height=df2_mean['brainwt'], color='#DB4437', )\n",
    "axes[1].set_title('Średnie brainwt myszy')\n",
    "axes[1].set_ylim(0,500);"
   ]
  },
  {
   "cell_type": "markdown",
   "metadata": {},
   "source": [
    "#### 12. Jaka jest mediana bodywt myszy?"
   ]
  },
  {
   "cell_type": "code",
   "execution_count": 53,
   "metadata": {
    "ExecuteTime": {
     "end_time": "2020-01-09T14:05:06.114141Z",
     "start_time": "2020-01-09T14:05:06.107291Z"
    }
   },
   "outputs": [
    {
     "data": {
      "text/plain": [
       "21.24"
      ]
     },
     "execution_count": 53,
     "metadata": {},
     "output_type": "execute_result"
    }
   ],
   "source": [
    "df2['bodywt'].median()"
   ]
  },
  {
   "cell_type": "markdown",
   "metadata": {},
   "source": [
    "#### 13. Ile myszy waży poniżej mediany bodywt?"
   ]
  },
  {
   "cell_type": "code",
   "execution_count": 54,
   "metadata": {
    "ExecuteTime": {
     "end_time": "2020-01-09T14:05:06.124857Z",
     "start_time": "2020-01-09T14:05:06.117086Z"
    }
   },
   "outputs": [
    {
     "data": {
      "text/plain": [
       "67"
      ]
     },
     "execution_count": 54,
     "metadata": {},
     "output_type": "execute_result"
    }
   ],
   "source": [
    "len(df2[df2['bodywt'] < df2['bodywt'].median()])"
   ]
  }
 ],
 "metadata": {
  "kernelspec": {
   "display_name": "Python 3",
   "language": "python",
   "name": "python3"
  },
  "language_info": {
   "codemirror_mode": {
    "name": "ipython",
    "version": 3
   },
   "file_extension": ".py",
   "mimetype": "text/x-python",
   "name": "python",
   "nbconvert_exporter": "python",
   "pygments_lexer": "ipython3",
   "version": "3.6.8"
  }
 },
 "nbformat": 4,
 "nbformat_minor": 2
}
