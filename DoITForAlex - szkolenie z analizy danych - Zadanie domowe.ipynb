{
 "cells": [
  {
   "cell_type": "markdown",
   "metadata": {},
   "source": [
    "# DoITForAlex\n",
    "\n",
    "# Szkolenie z analizy danych z wykorzystaniem języka programowania Python - zadanie domowe\n",
    "\n",
    "Prowadzący: Dorota Mierzwa, Martyna Urbanek-Trzeciak"
   ]
  },
  {
   "cell_type": "markdown",
   "metadata": {},
   "source": [
    "## Zadanie\n",
    "\n",
    "Dane pochodzą z eksperymentu prowadzonego na Uniwerystecie UCLA przez studentów.\n",
    "\n",
    "Spróbuj odpowiedzieć na pytania i tam gdzie możliwe stwórz wykres pokazujący wynik, np. \n",
    "* dla pytania 4 można stworzyć wykres słupkowy wszystkich wartości brainwt\n",
    "* dla pytania 9 wykres słupkowy dwukolorowy ze średnimi odpowiednio dla myszy płci żeńskiej i męskiej.\n"
   ]
  },
  {
   "cell_type": "code",
   "execution_count": null,
   "metadata": {},
   "outputs": [],
   "source": []
  },
  {
   "cell_type": "markdown",
   "metadata": {},
   "source": [
    "1. Załaduj dane z pliku https://mdcune.psych.ucla.edu/modules/bioinformatics/extras/QTL_Sample_data.xls/view"
   ]
  },
  {
   "cell_type": "code",
   "execution_count": null,
   "metadata": {},
   "outputs": [],
   "source": []
  },
  {
   "cell_type": "markdown",
   "metadata": {},
   "source": [
    "2. Sprawdź strukturę wczytanej tabeli i typy danych"
   ]
  },
  {
   "cell_type": "code",
   "execution_count": null,
   "metadata": {},
   "outputs": [],
   "source": []
  },
  {
   "cell_type": "markdown",
   "metadata": {},
   "source": [
    "3. Sprawdź jaki był średni wiek (age) myszy"
   ]
  },
  {
   "cell_type": "code",
   "execution_count": null,
   "metadata": {},
   "outputs": [],
   "source": []
  },
  {
   "cell_type": "markdown",
   "metadata": {},
   "source": [
    "4. Sprawdź jaka była największa wartość brainwt"
   ]
  },
  {
   "cell_type": "code",
   "execution_count": null,
   "metadata": {},
   "outputs": [],
   "source": []
  },
  {
   "cell_type": "markdown",
   "metadata": {},
   "source": [
    "5. Sprawdź jaka jest płeć (sex) myszy o ID 1709"
   ]
  },
  {
   "cell_type": "code",
   "execution_count": null,
   "metadata": {},
   "outputs": [],
   "source": []
  },
  {
   "cell_type": "markdown",
   "metadata": {},
   "source": [
    "6. Sprawdź jakie ID miała mysz o najwyższej wartości bodywt"
   ]
  },
  {
   "cell_type": "code",
   "execution_count": null,
   "metadata": {},
   "outputs": [],
   "source": []
  },
  {
   "cell_type": "markdown",
   "metadata": {},
   "source": [
    "7. Sprawdź ile było myszy płci męskiej i żeńskiej"
   ]
  },
  {
   "cell_type": "code",
   "execution_count": null,
   "metadata": {},
   "outputs": [],
   "source": []
  },
  {
   "cell_type": "markdown",
   "metadata": {},
   "source": [
    "8. Sprawdź ile było rodzajów linii myszy (Strain) w badaniu"
   ]
  },
  {
   "cell_type": "code",
   "execution_count": null,
   "metadata": {},
   "outputs": [],
   "source": []
  },
  {
   "cell_type": "markdown",
   "metadata": {},
   "source": [
    "9. Sprawdź jaka jest średnia wartość brainwt i bodywt odpowiednio dla myszy żeńskich i męskich"
   ]
  },
  {
   "cell_type": "code",
   "execution_count": null,
   "metadata": {},
   "outputs": [],
   "source": []
  }
 ],
 "metadata": {
  "kernelspec": {
   "display_name": "Python 3",
   "language": "python",
   "name": "python3"
  },
  "language_info": {
   "codemirror_mode": {
    "name": "ipython",
    "version": 3
   },
   "file_extension": ".py",
   "mimetype": "text/x-python",
   "name": "python",
   "nbconvert_exporter": "python",
   "pygments_lexer": "ipython3",
   "version": "3.6.7"
  }
 },
 "nbformat": 4,
 "nbformat_minor": 2
}
