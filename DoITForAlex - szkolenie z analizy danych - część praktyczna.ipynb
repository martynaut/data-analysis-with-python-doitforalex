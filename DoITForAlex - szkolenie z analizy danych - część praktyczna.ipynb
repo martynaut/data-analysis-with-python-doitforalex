{
 "cells": [
  {
   "cell_type": "markdown",
   "metadata": {},
   "source": [
    "# DoITForAlex\n",
    "\n",
    "# Szkolenie z analizy danych z wykorzystaniem języka programowania Python - zadania praktyczne\n",
    "\n",
    "Prowadzący: Dorota Mierzwa, Martyna Urbanek-Trzeciak"
   ]
  },
  {
   "cell_type": "markdown",
   "metadata": {
    "ExecuteTime": {
     "end_time": "2019-12-31T09:05:24.651929Z",
     "start_time": "2019-12-31T09:05:24.647602Z"
    }
   },
   "source": [
    "## Część praktyczna I\n",
    "\n",
    "Wykorzystamy dane z Google Trends dotyczące wyszukiwana wybranych fraz: crossfit, python oraz tofu (możesz zmienić tofu na inne słowo, dla łatwości korzystania z notebooka crossfit i python powinny zostać :).\n",
    "\n",
    "Dane pobierz [stąd](https://trends.google.com/trends/explore?date=all&q=crossfit,python,tofu)."
   ]
  },
  {
   "cell_type": "code",
   "execution_count": null,
   "metadata": {
    "ExecuteTime": {
     "end_time": "2019-12-31T14:47:41.950927Z",
     "start_time": "2019-12-31T14:47:41.947146Z"
    }
   },
   "outputs": [],
   "source": [
    "import pandas as pd\n",
    "import numpy as np\n",
    "import matplotlib.pyplot as plt \n",
    "import seaborn as sns"
   ]
  },
  {
   "cell_type": "markdown",
   "metadata": {},
   "source": [
    "#### 1. Wczytaj dane z pliku multiTimeline.csv. Spróbuj użyć argumentu \"header\", słowa wyszukiwane w Google Trends znalazły się w nazwach kolumn"
   ]
  },
  {
   "cell_type": "code",
   "execution_count": null,
   "metadata": {
    "ExecuteTime": {
     "end_time": "2019-12-31T14:14:27.008377Z",
     "start_time": "2019-12-31T14:14:26.961785Z"
    }
   },
   "outputs": [],
   "source": []
  },
  {
   "cell_type": "markdown",
   "metadata": {},
   "source": [
    "#### 2. Wyświetl 5 pierwszych wierszy danych"
   ]
  },
  {
   "cell_type": "code",
   "execution_count": null,
   "metadata": {
    "ExecuteTime": {
     "end_time": "2019-12-31T14:14:27.025807Z",
     "start_time": "2019-12-31T14:14:27.010856Z"
    }
   },
   "outputs": [],
   "source": []
  },
  {
   "cell_type": "markdown",
   "metadata": {
    "ExecuteTime": {
     "end_time": "2019-12-31T09:13:04.832938Z",
     "start_time": "2019-12-31T09:13:04.829864Z"
    }
   },
   "source": [
    "#### 3. Wyświetl 5 ostatnich wierszy danych"
   ]
  },
  {
   "cell_type": "code",
   "execution_count": null,
   "metadata": {
    "ExecuteTime": {
     "end_time": "2019-12-31T14:14:27.036738Z",
     "start_time": "2019-12-31T14:14:27.027791Z"
    }
   },
   "outputs": [],
   "source": []
  },
  {
   "cell_type": "markdown",
   "metadata": {},
   "source": [
    "#### 4. Wyświetl wartości dla wiersza o numerycznym indeksie 100"
   ]
  },
  {
   "cell_type": "code",
   "execution_count": null,
   "metadata": {
    "ExecuteTime": {
     "end_time": "2019-12-31T14:14:27.043859Z",
     "start_time": "2019-12-31T14:14:27.038763Z"
    }
   },
   "outputs": [],
   "source": []
  },
  {
   "cell_type": "markdown",
   "metadata": {},
   "source": [
    "#### 5. Zmień nazwy kolumn usuwając \": (Worldwide)\". Zamień również kolumnę \"Month\" na \"Date\"."
   ]
  },
  {
   "cell_type": "code",
   "execution_count": null,
   "metadata": {
    "ExecuteTime": {
     "end_time": "2019-12-31T14:14:27.050229Z",
     "start_time": "2019-12-31T14:14:27.046007Z"
    }
   },
   "outputs": [],
   "source": []
  },
  {
   "cell_type": "markdown",
   "metadata": {},
   "source": [
    "#### 6. Wyświetl wiersz dla daty 2019-01"
   ]
  },
  {
   "cell_type": "code",
   "execution_count": null,
   "metadata": {
    "ExecuteTime": {
     "end_time": "2019-12-31T14:14:27.063683Z",
     "start_time": "2019-12-31T14:14:27.052150Z"
    }
   },
   "outputs": [],
   "source": []
  },
  {
   "cell_type": "markdown",
   "metadata": {
    "ExecuteTime": {
     "end_time": "2019-12-31T09:18:10.509698Z",
     "start_time": "2019-12-31T09:18:10.506680Z"
    }
   },
   "source": [
    "#### 7. Wyświetl wiersz dla dat większych od września 2019"
   ]
  },
  {
   "cell_type": "code",
   "execution_count": null,
   "metadata": {
    "ExecuteTime": {
     "end_time": "2019-12-31T14:14:27.076804Z",
     "start_time": "2019-12-31T14:14:27.066153Z"
    }
   },
   "outputs": [],
   "source": []
  },
  {
   "cell_type": "markdown",
   "metadata": {},
   "source": [
    "#### 8. Wyświetl wiersze dla dat większych od stycznia 2018 ale mniejszych niż maj 2018"
   ]
  },
  {
   "cell_type": "code",
   "execution_count": null,
   "metadata": {
    "ExecuteTime": {
     "end_time": "2019-12-31T14:14:27.093034Z",
     "start_time": "2019-12-31T14:14:27.080174Z"
    }
   },
   "outputs": [],
   "source": []
  },
  {
   "cell_type": "markdown",
   "metadata": {},
   "source": [
    "#### 9. Wyświetl wiersze, gdy wartość w kolumnie python jest większa niż 90 LUB mniejsza niż 20"
   ]
  },
  {
   "cell_type": "code",
   "execution_count": null,
   "metadata": {
    "ExecuteTime": {
     "end_time": "2019-12-31T14:14:27.111053Z",
     "start_time": "2019-12-31T14:14:27.095579Z"
    }
   },
   "outputs": [],
   "source": []
  },
  {
   "cell_type": "markdown",
   "metadata": {},
   "source": [
    "#### 10. Nadpisz wartość w kolumnie \"python\", dla 2019-12 by równała się 100. Wyświetl ostatnie wiersze, by sprawdzić, czy wartość jest taka, jakiej się spodziewasz. "
   ]
  },
  {
   "cell_type": "code",
   "execution_count": null,
   "metadata": {
    "ExecuteTime": {
     "end_time": "2019-12-31T14:14:27.116487Z",
     "start_time": "2019-12-31T14:14:27.113394Z"
    }
   },
   "outputs": [],
   "source": []
  },
  {
   "cell_type": "markdown",
   "metadata": {},
   "source": [
    "#### 11. Sprawdź jakie typy mają kolumny"
   ]
  },
  {
   "cell_type": "code",
   "execution_count": null,
   "metadata": {
    "ExecuteTime": {
     "end_time": "2019-12-31T14:14:27.147932Z",
     "start_time": "2019-12-31T14:14:27.139437Z"
    }
   },
   "outputs": [],
   "source": []
  },
  {
   "cell_type": "markdown",
   "metadata": {},
   "source": [
    "#### 12. Zmień typy kolumn \"Month\" na datetime oraz \"crossfit\" na int. \n",
    "\n",
    "Zauważ, że w kolumnie \"crossfit\" oprócz cyfr są także znaki specjalne, których trzeba się pozbyć. Spróbuj użyć funkcji str.replace według dokumentacji pandas https://pandas.pydata.org/pandas-docs/stable/reference/api/pandas.Series.str.replace.html"
   ]
  },
  {
   "cell_type": "code",
   "execution_count": null,
   "metadata": {
    "ExecuteTime": {
     "end_time": "2019-12-31T14:14:27.155172Z",
     "start_time": "2019-12-31T14:14:27.150415Z"
    }
   },
   "outputs": [],
   "source": []
  },
  {
   "cell_type": "markdown",
   "metadata": {},
   "source": [
    "#### 13. Ile razy crossfit prześcignął pythona w wyszukiwaniach w Google?"
   ]
  },
  {
   "cell_type": "code",
   "execution_count": null,
   "metadata": {
    "ExecuteTime": {
     "end_time": "2019-12-31T14:14:27.223554Z",
     "start_time": "2019-12-31T14:14:27.217721Z"
    }
   },
   "outputs": [],
   "source": []
  },
  {
   "cell_type": "markdown",
   "metadata": {},
   "source": [
    "#### 14. Jaka jest maksymalna wartość dla każdego z wyszukiwanych słów?"
   ]
  },
  {
   "cell_type": "code",
   "execution_count": null,
   "metadata": {
    "ExecuteTime": {
     "end_time": "2019-12-31T14:14:27.233091Z",
     "start_time": "2019-12-31T14:14:27.225946Z"
    }
   },
   "outputs": [],
   "source": []
  },
  {
   "cell_type": "markdown",
   "metadata": {
    "ExecuteTime": {
     "end_time": "2019-12-31T10:11:12.920242Z",
     "start_time": "2019-12-31T10:11:12.917417Z"
    }
   },
   "source": [
    "#### 15. Jaka jest minimalna wartość dla każdego z wyszukiwanych słów?"
   ]
  },
  {
   "cell_type": "code",
   "execution_count": null,
   "metadata": {
    "ExecuteTime": {
     "end_time": "2019-12-31T14:14:27.244794Z",
     "start_time": "2019-12-31T14:14:27.235979Z"
    }
   },
   "outputs": [],
   "source": []
  },
  {
   "cell_type": "markdown",
   "metadata": {},
   "source": [
    "#### 16. Stwórz nową kolumnę, która będzie zawierać tylko rok\n",
    "\n",
    "W tym celu możesz wykorzystać https://pandas.pydata.org/pandas-docs/stable/reference/api/pandas.Series.dt.html"
   ]
  },
  {
   "cell_type": "code",
   "execution_count": null,
   "metadata": {
    "ExecuteTime": {
     "end_time": "2019-12-31T14:14:27.266725Z",
     "start_time": "2019-12-31T14:14:27.253771Z"
    }
   },
   "outputs": [],
   "source": []
  },
  {
   "cell_type": "markdown",
   "metadata": {},
   "source": [
    "#### 17. Uzyskaj średnie roczne wartości dla kolumn crossfit, python i tofu (użyj `groupby`)"
   ]
  },
  {
   "cell_type": "code",
   "execution_count": null,
   "metadata": {
    "ExecuteTime": {
     "end_time": "2019-12-31T14:14:27.284745Z",
     "start_time": "2019-12-31T14:14:27.269039Z"
    }
   },
   "outputs": [],
   "source": []
  },
  {
   "cell_type": "markdown",
   "metadata": {},
   "source": [
    "#### 18. Stwórz nowy DataFrame z pogrupowanymi danymi z poprzedniego podpunktu"
   ]
  },
  {
   "cell_type": "code",
   "execution_count": null,
   "metadata": {
    "ExecuteTime": {
     "end_time": "2019-12-31T14:14:27.306166Z",
     "start_time": "2019-12-31T14:14:27.295033Z"
    }
   },
   "outputs": [],
   "source": []
  },
  {
   "cell_type": "markdown",
   "metadata": {},
   "source": [
    "#### 19. Ustaw kolumnę \"Date\" jako indeks DataFrame'a"
   ]
  },
  {
   "cell_type": "code",
   "execution_count": null,
   "metadata": {
    "ExecuteTime": {
     "end_time": "2019-12-31T14:14:27.324515Z",
     "start_time": "2019-12-31T14:14:27.314764Z"
    }
   },
   "outputs": [],
   "source": []
  },
  {
   "cell_type": "markdown",
   "metadata": {},
   "source": [
    "#### 20. Stwórz wykres liniowy wartości dla wszystkich 3 słów w czasie (taki jak na stronie Google Trends), wykorzystujący podstawowe ustawienia matplotlib"
   ]
  },
  {
   "cell_type": "code",
   "execution_count": null,
   "metadata": {
    "ExecuteTime": {
     "end_time": "2019-12-31T14:14:27.776252Z",
     "start_time": "2019-12-31T14:14:27.327034Z"
    }
   },
   "outputs": [],
   "source": []
  },
  {
   "cell_type": "markdown",
   "metadata": {},
   "source": [
    "#### 21. Zmodyfikuj swój wykres, tak by wizualnie jak najbardziej przypominał ten z Google Trends :)"
   ]
  },
  {
   "cell_type": "code",
   "execution_count": null,
   "metadata": {
    "ExecuteTime": {
     "end_time": "2019-12-31T14:40:21.277021Z",
     "start_time": "2019-12-31T14:40:21.000445Z"
    }
   },
   "outputs": [],
   "source": []
  },
  {
   "cell_type": "markdown",
   "metadata": {},
   "source": [
    "## Część praktyczna II (zadanie domowe)\n",
    "\n",
    "Wykorzystamy dane z eksperymentu na myszach prowadzonego na Uniwerystecie UCLA przez studentów. https://mdcune.psych.ucla.edu/modules/bioinformatics/extras/QTL_Sample_data.xls/view"
   ]
  },
  {
   "cell_type": "markdown",
   "metadata": {},
   "source": [
    "#### 1. Ściągnij i wczytaj dane "
   ]
  },
  {
   "cell_type": "code",
   "execution_count": null,
   "metadata": {
    "ExecuteTime": {
     "end_time": "2019-12-31T14:14:28.403335Z",
     "start_time": "2019-12-31T14:14:28.019504Z"
    }
   },
   "outputs": [],
   "source": []
  },
  {
   "cell_type": "markdown",
   "metadata": {},
   "source": [
    "#### 2. Sprawdź strukturę wczytanej tabeli i typy danych"
   ]
  },
  {
   "cell_type": "code",
   "execution_count": null,
   "metadata": {
    "ExecuteTime": {
     "end_time": "2019-12-31T14:14:28.427393Z",
     "start_time": "2019-12-31T14:14:28.405615Z"
    }
   },
   "outputs": [],
   "source": []
  },
  {
   "cell_type": "markdown",
   "metadata": {},
   "source": [
    "#### 3. Sprawdź jaki był średni wiek (age) myszy"
   ]
  },
  {
   "cell_type": "code",
   "execution_count": null,
   "metadata": {
    "ExecuteTime": {
     "end_time": "2019-12-31T14:14:28.453153Z",
     "start_time": "2019-12-31T14:14:28.446799Z"
    }
   },
   "outputs": [],
   "source": []
  },
  {
   "cell_type": "markdown",
   "metadata": {
    "ExecuteTime": {
     "end_time": "2019-12-31T13:53:33.886261Z",
     "start_time": "2019-12-31T13:53:33.883505Z"
    }
   },
   "source": [
    "#### 4. Sprawdź jaka była największa wartość brainwt"
   ]
  },
  {
   "cell_type": "code",
   "execution_count": null,
   "metadata": {
    "ExecuteTime": {
     "end_time": "2019-12-31T14:14:28.462069Z",
     "start_time": "2019-12-31T14:14:28.456255Z"
    }
   },
   "outputs": [],
   "source": []
  },
  {
   "cell_type": "markdown",
   "metadata": {},
   "source": [
    "#### 5. Stwórz histogram wartości brainwt"
   ]
  },
  {
   "cell_type": "code",
   "execution_count": null,
   "metadata": {
    "ExecuteTime": {
     "end_time": "2019-12-31T14:40:36.566420Z",
     "start_time": "2019-12-31T14:40:36.304554Z"
    }
   },
   "outputs": [],
   "source": []
  },
  {
   "cell_type": "markdown",
   "metadata": {
    "ExecuteTime": {
     "end_time": "2019-12-31T14:04:15.868442Z",
     "start_time": "2019-12-31T14:04:15.850640Z"
    }
   },
   "source": [
    "#### 6. Sprawdź jaka jest płeć (sex) myszy o ID 1709"
   ]
  },
  {
   "cell_type": "code",
   "execution_count": null,
   "metadata": {
    "ExecuteTime": {
     "end_time": "2019-12-31T14:20:41.933169Z",
     "start_time": "2019-12-31T14:20:41.925682Z"
    }
   },
   "outputs": [],
   "source": []
  },
  {
   "cell_type": "markdown",
   "metadata": {
    "ExecuteTime": {
     "end_time": "2019-12-31T14:20:55.191127Z",
     "start_time": "2019-12-31T14:20:55.187739Z"
    }
   },
   "source": [
    "#### 7. Sprawdź jakie ID miała mysz o najwyższej wartości bodywt"
   ]
  },
  {
   "cell_type": "code",
   "execution_count": null,
   "metadata": {
    "ExecuteTime": {
     "end_time": "2019-12-31T14:21:55.199781Z",
     "start_time": "2019-12-31T14:21:55.188817Z"
    }
   },
   "outputs": [],
   "source": []
  },
  {
   "cell_type": "markdown",
   "metadata": {},
   "source": [
    "#### 8. Sprawdź ile było myszy płci męskiej i żeńskiej"
   ]
  },
  {
   "cell_type": "code",
   "execution_count": null,
   "metadata": {
    "ExecuteTime": {
     "end_time": "2019-12-31T14:24:34.739337Z",
     "start_time": "2019-12-31T14:24:34.731164Z"
    }
   },
   "outputs": [],
   "source": []
  },
  {
   "cell_type": "markdown",
   "metadata": {},
   "source": [
    "#### 9. Sprawdź ile było rodzajów linii myszy (Strain) w badaniu"
   ]
  },
  {
   "cell_type": "code",
   "execution_count": null,
   "metadata": {
    "ExecuteTime": {
     "end_time": "2019-12-31T14:30:17.025882Z",
     "start_time": "2019-12-31T14:30:17.020399Z"
    }
   },
   "outputs": [],
   "source": []
  },
  {
   "cell_type": "markdown",
   "metadata": {},
   "source": [
    "#### 10. Sprawdź jaka jest średnia wartość brainwt i bodywt odpowiednio dla myszy żeńskich i męskich"
   ]
  },
  {
   "cell_type": "code",
   "execution_count": null,
   "metadata": {
    "ExecuteTime": {
     "end_time": "2019-12-31T14:44:01.871926Z",
     "start_time": "2019-12-31T14:44:01.862268Z"
    }
   },
   "outputs": [],
   "source": []
  },
  {
   "cell_type": "markdown",
   "metadata": {},
   "source": [
    "#### 11. Narysuj barplot (wykres słupkowy dla średnich bodywt i brainwt dla obu płci z pytania 10.)"
   ]
  },
  {
   "cell_type": "code",
   "execution_count": null,
   "metadata": {
    "ExecuteTime": {
     "end_time": "2019-12-31T14:41:04.277757Z",
     "start_time": "2019-12-31T14:41:03.953137Z"
    }
   },
   "outputs": [],
   "source": []
  }
 ],
 "metadata": {
  "kernelspec": {
   "display_name": "Python 3",
   "language": "python",
   "name": "python3"
  },
  "language_info": {
   "codemirror_mode": {
    "name": "ipython",
    "version": 3
   },
   "file_extension": ".py",
   "mimetype": "text/x-python",
   "name": "python",
   "nbconvert_exporter": "python",
   "pygments_lexer": "ipython3",
   "version": "3.6.8"
  }
 },
 "nbformat": 4,
 "nbformat_minor": 2
}
