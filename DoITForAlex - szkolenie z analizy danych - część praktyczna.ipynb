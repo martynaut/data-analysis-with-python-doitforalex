{
 "cells": [
  {
   "cell_type": "markdown",
   "metadata": {},
   "source": [
    "# DoITForAlex\n",
    "\n",
    "# Szkolenie z analizy danych z wykorzystaniem języka programowania Python - zadania praktyczne\n",
    "\n",
    "Prowadzący: Dorota Mierzwa, Martyna Urbanek-Trzeciak"
   ]
  },
  {
   "cell_type": "markdown",
   "metadata": {
    "ExecuteTime": {
     "end_time": "2019-12-31T09:05:24.651929Z",
     "start_time": "2019-12-31T09:05:24.647602Z"
    }
   },
   "source": [
    "## Część praktyczna I\n",
    "\n",
    "Wykorzystamy dane z Google Trends dotyczące wyszukiwana wybranych fraz: `crossfit`, `python` oraz `tofu` (możesz zmienić `tofu` na inne słowo, dla łatwości korzystania z notebooka - `crossfit` i `python` powinny zostać :).\n",
    "\n",
    "Dane pobierz [stąd](https://trends.google.com/trends/explore?date=all&q=crossfit,python,tofu)."
   ]
  },
  {
   "cell_type": "code",
   "execution_count": null,
   "metadata": {
    "ExecuteTime": {
     "end_time": "2020-01-03T07:53:33.349671Z",
     "start_time": "2020-01-03T07:53:32.519545Z"
    }
   },
   "outputs": [],
   "source": [
    "import pandas as pd\n",
    "import numpy as np\n",
    "import matplotlib.pyplot as plt \n",
    "import seaborn as sns"
   ]
  },
  {
   "cell_type": "markdown",
   "metadata": {},
   "source": [
    "#### 1. Wczytaj dane z pliku multiTimeline.csv. Spróbuj użyć argumentu \"header\", słowa wyszukiwane w Google Trends znalazły się w nazwach kolumn"
   ]
  },
  {
   "cell_type": "code",
   "execution_count": null,
   "metadata": {
    "ExecuteTime": {
     "end_time": "2020-01-03T07:53:33.399049Z",
     "start_time": "2020-01-03T07:53:33.351707Z"
    }
   },
   "outputs": [],
   "source": []
  },
  {
   "cell_type": "markdown",
   "metadata": {},
   "source": [
    "#### 2. Wyświetl 5 pierwszych wierszy danych"
   ]
  },
  {
   "cell_type": "code",
   "execution_count": null,
   "metadata": {
    "ExecuteTime": {
     "end_time": "2020-01-03T07:53:33.419874Z",
     "start_time": "2020-01-03T07:53:33.401674Z"
    }
   },
   "outputs": [],
   "source": []
  },
  {
   "cell_type": "markdown",
   "metadata": {
    "ExecuteTime": {
     "end_time": "2019-12-31T09:13:04.832938Z",
     "start_time": "2019-12-31T09:13:04.829864Z"
    }
   },
   "source": [
    "#### 3. Wyświetl 5 ostatnich wierszy danych"
   ]
  },
  {
   "cell_type": "code",
   "execution_count": null,
   "metadata": {
    "ExecuteTime": {
     "end_time": "2020-01-03T07:53:33.432247Z",
     "start_time": "2020-01-03T07:53:33.422572Z"
    }
   },
   "outputs": [],
   "source": []
  },
  {
   "cell_type": "markdown",
   "metadata": {},
   "source": [
    "#### 4. Wyświetl wartości dla wiersza o numerycznym indeksie 100"
   ]
  },
  {
   "cell_type": "code",
   "execution_count": null,
   "metadata": {
    "ExecuteTime": {
     "end_time": "2020-01-03T07:53:33.440342Z",
     "start_time": "2020-01-03T07:53:33.434441Z"
    }
   },
   "outputs": [],
   "source": []
  },
  {
   "cell_type": "markdown",
   "metadata": {},
   "source": [
    "#### 5. Zmień nazwy kolumn usuwając \": (Worldwide)\". Zamień również kolumnę \"Month\" na \"Date\"."
   ]
  },
  {
   "cell_type": "code",
   "execution_count": null,
   "metadata": {
    "ExecuteTime": {
     "end_time": "2020-01-03T07:53:33.447070Z",
     "start_time": "2020-01-03T07:53:33.442905Z"
    }
   },
   "outputs": [],
   "source": []
  },
  {
   "cell_type": "markdown",
   "metadata": {},
   "source": [
    "#### 6. Wyświetl wiersz dla daty 2019-01"
   ]
  },
  {
   "cell_type": "code",
   "execution_count": null,
   "metadata": {
    "ExecuteTime": {
     "end_time": "2020-01-03T07:53:33.459817Z",
     "start_time": "2020-01-03T07:53:33.449591Z"
    }
   },
   "outputs": [],
   "source": []
  },
  {
   "cell_type": "markdown",
   "metadata": {
    "ExecuteTime": {
     "end_time": "2019-12-31T09:18:10.509698Z",
     "start_time": "2019-12-31T09:18:10.506680Z"
    }
   },
   "source": [
    "#### 7. Wyświetl wiersz dla dat większych od września 2019"
   ]
  },
  {
   "cell_type": "code",
   "execution_count": null,
   "metadata": {
    "ExecuteTime": {
     "end_time": "2020-01-03T07:53:33.472620Z",
     "start_time": "2020-01-03T07:53:33.462218Z"
    }
   },
   "outputs": [],
   "source": []
  },
  {
   "cell_type": "markdown",
   "metadata": {},
   "source": [
    "#### 8. Wyświetl wiersze dla dat większych od stycznia 2018 ale mniejszych niż maj 2018"
   ]
  },
  {
   "cell_type": "code",
   "execution_count": null,
   "metadata": {
    "ExecuteTime": {
     "end_time": "2020-01-03T07:53:33.486373Z",
     "start_time": "2020-01-03T07:53:33.475181Z"
    }
   },
   "outputs": [],
   "source": []
  },
  {
   "cell_type": "markdown",
   "metadata": {},
   "source": [
    "#### 9. Wyświetl wiersze, gdy wartość w kolumnie python jest większa niż 90 LUB mniejsza niż 30"
   ]
  },
  {
   "cell_type": "code",
   "execution_count": null,
   "metadata": {
    "ExecuteTime": {
     "end_time": "2020-01-03T07:53:33.511586Z",
     "start_time": "2020-01-03T07:53:33.489059Z"
    }
   },
   "outputs": [],
   "source": []
  },
  {
   "cell_type": "markdown",
   "metadata": {},
   "source": [
    "#### 10. Nadpisz wartość w kolumnie \"python\", dla 2019-12 by równała się 100. Wyświetl ostatnie wiersze DataFrame, by sprawdzić, czy wartość jest taka, jakiej się spodziewasz. "
   ]
  },
  {
   "cell_type": "code",
   "execution_count": null,
   "metadata": {
    "ExecuteTime": {
     "end_time": "2020-01-03T07:53:33.518022Z",
     "start_time": "2020-01-03T07:53:33.514627Z"
    }
   },
   "outputs": [],
   "source": []
  },
  {
   "cell_type": "markdown",
   "metadata": {},
   "source": [
    "#### 11. Sprawdź jakie typy mają kolumny"
   ]
  },
  {
   "cell_type": "code",
   "execution_count": null,
   "metadata": {
    "ExecuteTime": {
     "end_time": "2020-01-03T07:53:33.555220Z",
     "start_time": "2020-01-03T07:53:33.545126Z"
    }
   },
   "outputs": [],
   "source": []
  },
  {
   "cell_type": "markdown",
   "metadata": {},
   "source": [
    "#### 12. Zmień typy kolumn \"Month\" na datetime oraz \"crossfit\" na int. \n",
    "\n",
    "Zauważ, że w kolumnie \"crossfit\" oprócz cyfr są także znaki specjalne, których trzeba się pozbyć. Spróbuj użyć funkcji str.replace według dokumentacji pandas https://pandas.pydata.org/pandas-docs/stable/reference/api/pandas.Series.str.replace.html"
   ]
  },
  {
   "cell_type": "code",
   "execution_count": null,
   "metadata": {
    "ExecuteTime": {
     "end_time": "2020-01-03T07:53:33.562231Z",
     "start_time": "2020-01-03T07:53:33.557417Z"
    }
   },
   "outputs": [],
   "source": []
  },
  {
   "cell_type": "markdown",
   "metadata": {},
   "source": [
    "#### 13. Ile razy crossfit prześcignął pythona w wyszukiwaniach w Google?"
   ]
  },
  {
   "cell_type": "code",
   "execution_count": null,
   "metadata": {
    "ExecuteTime": {
     "end_time": "2020-01-03T07:53:33.626907Z",
     "start_time": "2020-01-03T07:53:33.615701Z"
    }
   },
   "outputs": [],
   "source": []
  },
  {
   "cell_type": "markdown",
   "metadata": {},
   "source": [
    "#### 14. Jaka jest maksymalna wartość dla każdego z wyszukiwanych słów?"
   ]
  },
  {
   "cell_type": "code",
   "execution_count": null,
   "metadata": {
    "ExecuteTime": {
     "end_time": "2020-01-03T07:53:33.650253Z",
     "start_time": "2020-01-03T07:53:33.640305Z"
    }
   },
   "outputs": [],
   "source": []
  },
  {
   "cell_type": "markdown",
   "metadata": {
    "ExecuteTime": {
     "end_time": "2019-12-31T10:11:12.920242Z",
     "start_time": "2019-12-31T10:11:12.917417Z"
    }
   },
   "source": [
    "#### 15. Jaka jest minimalna wartość dla każdego z wyszukiwanych słów?"
   ]
  },
  {
   "cell_type": "code",
   "execution_count": null,
   "metadata": {
    "ExecuteTime": {
     "end_time": "2020-01-03T07:53:33.661159Z",
     "start_time": "2020-01-03T07:53:33.652946Z"
    }
   },
   "outputs": [],
   "source": []
  },
  {
   "cell_type": "markdown",
   "metadata": {},
   "source": [
    "#### 16. Stwórz nową kolumnę, która będzie zawierać tylko rok\n",
    "\n",
    "W tym celu możesz wykorzystać https://pandas.pydata.org/pandas-docs/stable/reference/api/pandas.Series.dt.html"
   ]
  },
  {
   "cell_type": "code",
   "execution_count": null,
   "metadata": {
    "ExecuteTime": {
     "end_time": "2020-01-03T07:53:33.682293Z",
     "start_time": "2020-01-03T07:53:33.670904Z"
    }
   },
   "outputs": [],
   "source": []
  },
  {
   "cell_type": "markdown",
   "metadata": {},
   "source": [
    "#### 17. Uzyskaj średnie roczne wartości dla kolumn crossfit, python i tofu (użyj `groupby`)"
   ]
  },
  {
   "cell_type": "code",
   "execution_count": null,
   "metadata": {
    "ExecuteTime": {
     "end_time": "2020-01-03T07:53:33.699708Z",
     "start_time": "2020-01-03T07:53:33.684686Z"
    }
   },
   "outputs": [],
   "source": []
  },
  {
   "cell_type": "markdown",
   "metadata": {},
   "source": [
    "#### 18. Stwórz nowy DataFrame z pogrupowanymi danymi z poprzedniego podpunktu"
   ]
  },
  {
   "cell_type": "code",
   "execution_count": null,
   "metadata": {
    "ExecuteTime": {
     "end_time": "2020-01-03T07:53:33.708585Z",
     "start_time": "2020-01-03T07:53:33.702164Z"
    }
   },
   "outputs": [],
   "source": []
  },
  {
   "cell_type": "markdown",
   "metadata": {},
   "source": [
    "#### 19. Ustaw kolumnę \"Date\" jako indeks DataFrame'a"
   ]
  },
  {
   "cell_type": "code",
   "execution_count": null,
   "metadata": {
    "ExecuteTime": {
     "end_time": "2020-01-03T07:53:33.728034Z",
     "start_time": "2020-01-03T07:53:33.724322Z"
    }
   },
   "outputs": [],
   "source": []
  },
  {
   "cell_type": "markdown",
   "metadata": {},
   "source": [
    "#### 20. Stwórz wykres liniowy wartości dla wszystkich 3 słów w czasie (taki jak na stronie Google Trends), wykorzystujący domyślne ustawienia matplotlib"
   ]
  },
  {
   "cell_type": "code",
   "execution_count": null,
   "metadata": {
    "ExecuteTime": {
     "end_time": "2020-01-03T07:53:34.152241Z",
     "start_time": "2020-01-03T07:53:33.746004Z"
    }
   },
   "outputs": [],
   "source": []
  },
  {
   "cell_type": "markdown",
   "metadata": {},
   "source": [
    "#### 21. Zmodyfikuj swój wykres, tak by wizualnie jak najbardziej przypominał ten z Google Trends (link na górze notebooka) :)"
   ]
  },
  {
   "cell_type": "code",
   "execution_count": null,
   "metadata": {
    "ExecuteTime": {
     "end_time": "2020-01-03T07:53:34.452944Z",
     "start_time": "2020-01-03T07:53:34.154616Z"
    }
   },
   "outputs": [],
   "source": [
    "fig, ax = plt.subplots(figsize=(15,5))\n",
    "\n",
    "# kolory Google (#4285F4, #DB4437, #F4B400)\n",
    "ax.plot(df['crossfit'], color=, linewidth=)\n",
    "\n",
    "\n",
    "# usuwanie ramki wykresu\n",
    "ax.spines['top'].set_visible(False)\n",
    "# ....\n",
    "\n",
    "# dodanie poziomych linii w tle\n",
    "ax.grid(axis=, alpha=, color=)\n",
    "\n",
    "# dostosowanie tick'ów na osi y\n",
    "ax.set_yticks() # wpisz listę tick'ów\n",
    "\n",
    "# dostosowanie tick'ów na osi x\n",
    "ax.set_xticks(df.index[::46]) # frequency\n",
    "\n",
    "# kolory opisów obu osi\n",
    "ax.tick_params(axis=, labelcolor=, color=)\n",
    "\n",
    "# legenda\n",
    "ax.legend(bbox_to_anchor=, frameon=, fontsize=);"
   ]
  },
  {
   "cell_type": "markdown",
   "metadata": {},
   "source": [
    "## Część praktyczna II (zadanie domowe)\n",
    "\n",
    "Wykorzystamy dane z eksperymentu na myszach prowadzonego na Uniwerystecie UCLA przez studentów. https://mdcune.psych.ucla.edu/modules/bioinformatics/extras/QTL_Sample_data.xls/view"
   ]
  },
  {
   "cell_type": "markdown",
   "metadata": {},
   "source": [
    "#### 1. Ściągnij i wczytaj dane "
   ]
  },
  {
   "cell_type": "code",
   "execution_count": null,
   "metadata": {
    "ExecuteTime": {
     "end_time": "2020-01-03T07:53:34.801265Z",
     "start_time": "2020-01-03T07:53:34.456276Z"
    }
   },
   "outputs": [],
   "source": []
  },
  {
   "cell_type": "markdown",
   "metadata": {},
   "source": [
    "#### 2. Sprawdź strukturę wczytanej tabeli i typy danych"
   ]
  },
  {
   "cell_type": "code",
   "execution_count": null,
   "metadata": {
    "ExecuteTime": {
     "end_time": "2020-01-03T07:53:34.838889Z",
     "start_time": "2020-01-03T07:53:34.828360Z"
    }
   },
   "outputs": [],
   "source": []
  },
  {
   "cell_type": "markdown",
   "metadata": {},
   "source": [
    "#### 3. Sprawdź jaki był średni wiek (age) myszy"
   ]
  },
  {
   "cell_type": "code",
   "execution_count": null,
   "metadata": {
    "ExecuteTime": {
     "end_time": "2020-01-03T07:53:34.846479Z",
     "start_time": "2020-01-03T07:53:34.841341Z"
    }
   },
   "outputs": [],
   "source": []
  },
  {
   "cell_type": "markdown",
   "metadata": {
    "ExecuteTime": {
     "end_time": "2019-12-31T13:53:33.886261Z",
     "start_time": "2019-12-31T13:53:33.883505Z"
    }
   },
   "source": [
    "#### 4. Sprawdź jaka była największa wartość brainwt"
   ]
  },
  {
   "cell_type": "code",
   "execution_count": null,
   "metadata": {
    "ExecuteTime": {
     "end_time": "2020-01-03T07:53:34.855115Z",
     "start_time": "2020-01-03T07:53:34.849521Z"
    }
   },
   "outputs": [],
   "source": []
  },
  {
   "cell_type": "markdown",
   "metadata": {},
   "source": [
    "#### 5. Stwórz histogram wartości brainwt"
   ]
  },
  {
   "cell_type": "code",
   "execution_count": null,
   "metadata": {
    "ExecuteTime": {
     "end_time": "2020-01-03T07:53:35.133790Z",
     "start_time": "2020-01-03T07:53:34.857683Z"
    }
   },
   "outputs": [],
   "source": []
  },
  {
   "cell_type": "markdown",
   "metadata": {
    "ExecuteTime": {
     "end_time": "2019-12-31T14:04:15.868442Z",
     "start_time": "2019-12-31T14:04:15.850640Z"
    }
   },
   "source": [
    "#### 6. Sprawdź jaka jest płeć (sex) myszy o ID 1709"
   ]
  },
  {
   "cell_type": "code",
   "execution_count": null,
   "metadata": {
    "ExecuteTime": {
     "end_time": "2020-01-03T07:53:35.144175Z",
     "start_time": "2020-01-03T07:53:35.136424Z"
    }
   },
   "outputs": [],
   "source": []
  },
  {
   "cell_type": "markdown",
   "metadata": {
    "ExecuteTime": {
     "end_time": "2019-12-31T14:20:55.191127Z",
     "start_time": "2019-12-31T14:20:55.187739Z"
    }
   },
   "source": [
    "#### 7. Sprawdź jakie ID miała mysz o najwyższej wartości bodywt"
   ]
  },
  {
   "cell_type": "code",
   "execution_count": null,
   "metadata": {
    "ExecuteTime": {
     "end_time": "2020-01-03T07:53:35.188096Z",
     "start_time": "2020-01-03T07:53:35.180505Z"
    }
   },
   "outputs": [],
   "source": []
  },
  {
   "cell_type": "markdown",
   "metadata": {},
   "source": [
    "#### 8. Sprawdź ile było myszy płci męskiej i żeńskiej"
   ]
  },
  {
   "cell_type": "code",
   "execution_count": null,
   "metadata": {
    "ExecuteTime": {
     "end_time": "2020-01-03T07:53:35.198870Z",
     "start_time": "2020-01-03T07:53:35.191483Z"
    }
   },
   "outputs": [],
   "source": []
  },
  {
   "cell_type": "markdown",
   "metadata": {},
   "source": [
    "#### 9. Sprawdź ile było rodzajów linii myszy (Strain) w badaniu"
   ]
  },
  {
   "cell_type": "code",
   "execution_count": null,
   "metadata": {
    "ExecuteTime": {
     "end_time": "2020-01-03T07:53:35.257775Z",
     "start_time": "2020-01-03T07:53:35.239014Z"
    }
   },
   "outputs": [],
   "source": []
  },
  {
   "cell_type": "markdown",
   "metadata": {},
   "source": [
    "#### 10. Sprawdź jaka jest średnia wartość brainwt i bodywt odpowiednio dla myszy płci żeńskiej i męskiej"
   ]
  },
  {
   "cell_type": "code",
   "execution_count": null,
   "metadata": {
    "ExecuteTime": {
     "end_time": "2020-01-03T07:53:35.278792Z",
     "start_time": "2020-01-03T07:53:35.270445Z"
    }
   },
   "outputs": [],
   "source": []
  },
  {
   "cell_type": "markdown",
   "metadata": {},
   "source": [
    "#### 11. Narysuj barplot (wykres słupkowy dla średnich bodywt i brainwt dla obu płci z pytania 10.)"
   ]
  },
  {
   "cell_type": "code",
   "execution_count": null,
   "metadata": {
    "ExecuteTime": {
     "end_time": "2020-01-03T07:53:35.667168Z",
     "start_time": "2020-01-03T07:53:35.281351Z"
    }
   },
   "outputs": [],
   "source": []
  },
  {
   "cell_type": "markdown",
   "metadata": {},
   "source": [
    "#### 12. Jaka jest mediana bodywt myszy?"
   ]
  },
  {
   "cell_type": "code",
   "execution_count": null,
   "metadata": {
    "ExecuteTime": {
     "end_time": "2020-01-03T14:56:06.628926Z",
     "start_time": "2020-01-03T14:56:06.622775Z"
    }
   },
   "outputs": [],
   "source": []
  },
  {
   "cell_type": "markdown",
   "metadata": {},
   "source": [
    "#### 13. Ile myszy waży poniżej mediany bodywt?"
   ]
  },
  {
   "cell_type": "code",
   "execution_count": null,
   "metadata": {
    "ExecuteTime": {
     "end_time": "2020-01-03T14:56:54.349946Z",
     "start_time": "2020-01-03T14:56:54.342385Z"
    }
   },
   "outputs": [],
   "source": []
  }
 ],
 "metadata": {
  "kernelspec": {
   "display_name": "Python 3",
   "language": "python",
   "name": "python3"
  },
  "language_info": {
   "codemirror_mode": {
    "name": "ipython",
    "version": 3
   },
   "file_extension": ".py",
   "mimetype": "text/x-python",
   "name": "python",
   "nbconvert_exporter": "python",
   "pygments_lexer": "ipython3",
   "version": "3.7.4"
  }
 },
 "nbformat": 4,
 "nbformat_minor": 2
}
